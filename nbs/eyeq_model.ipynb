{
 "cells": [
  {
   "cell_type": "code",
   "execution_count": null,
   "id": "uABsSqAi88XQ",
   "metadata": {
    "colab": {
     "base_uri": "https://localhost:8080/",
     "height": 351
    },
    "id": "uABsSqAi88XQ",
    "outputId": "07efa279-c3c2-4fb4-f978-6f56ddb3b114"
   },
   "outputs": [],
   "source": [
    "import zipfile\n",
    "zip_ref = zipfile.ZipFile(\"/content/drive/MyDrive/Colab Notebooks/eye_quality/processed.zip\", 'r')\n",
    "zip_ref.extractall(\"/content/drive/MyDrive/Colab Notebooks/eye_quality/\")\n",
    "zip_ref.close()"
   ]
  },
  {
   "cell_type": "code",
   "execution_count": null,
   "id": "KTxwxH4X7tG1",
   "metadata": {
    "colab": {
     "base_uri": "https://localhost:8080/"
    },
    "id": "KTxwxH4X7tG1",
    "outputId": "a4b6b02a-1048-4ecf-9f0c-c0da5bf4fa9d"
   },
   "outputs": [],
   "source": [
    "from google.colab import drive\n",
    "drive.mount('/content/drive')"
   ]
  },
  {
   "cell_type": "code",
   "execution_count": null,
   "id": "StrkFlu8ybg0",
   "metadata": {
    "colab": {
     "base_uri": "https://localhost:8080/"
    },
    "id": "StrkFlu8ybg0",
    "outputId": "d3eee920-737c-4a6b-85bf-f0b24da807a1"
   },
   "outputs": [],
   "source": [
    "!pip install pytorch-lightning timm torchinfo"
   ]
  },
  {
   "cell_type": "code",
   "execution_count": null,
   "id": "dcbb76af-68db-429d-87bb-9e67d8c81937",
   "metadata": {},
   "outputs": [],
   "source": [
    "root_dir = '/content/drive/MyDrive/Colab Notebooks/eye_quality'"
   ]
  },
  {
   "cell_type": "code",
   "execution_count": 1,
   "id": "1c62b08c-e61f-4922-8114-0f812155833a",
   "metadata": {},
   "outputs": [],
   "source": [
    "root_dir = '/home/tiurin/projects/ExampleProject/Temp/'"
   ]
  },
  {
   "cell_type": "code",
   "execution_count": 2,
   "id": "8d85868b-8284-465a-ba64-d955b06f537b",
   "metadata": {
    "id": "8d85868b-8284-465a-ba64-d955b06f537b"
   },
   "outputs": [],
   "source": [
    "%reload_ext autoreload\n",
    "%autoreload 2"
   ]
  },
  {
   "cell_type": "code",
   "execution_count": 3,
   "id": "cc2df090-903a-457d-ab7b-15c130d3d56b",
   "metadata": {},
   "outputs": [],
   "source": [
    "import sys\n",
    "sys.path.append('/home/tiurin/projects/ExampleProject/Temp/code/eye_quality/')"
   ]
  },
  {
   "cell_type": "code",
   "execution_count": 4,
   "id": "6337e9a5-3ab1-4c8e-b7ee-3b8136ba58b7",
   "metadata": {},
   "outputs": [],
   "source": [
    "import dataset_utils"
   ]
  },
  {
   "cell_type": "code",
   "execution_count": 5,
   "id": "43d38085-6cf5-43fa-8328-fa1a5a2a1b48",
   "metadata": {
    "id": "43d38085-6cf5-43fa-8328-fa1a5a2a1b48"
   },
   "outputs": [],
   "source": [
    "from torch.utils.data import Subset,DataLoader\n",
    "from torchvision import transforms, utils\n",
    "import torchvision\n",
    "import torch"
   ]
  },
  {
   "cell_type": "code",
   "execution_count": 6,
   "id": "117c945d-4b33-4c11-8a93-9e7920d3fc9c",
   "metadata": {},
   "outputs": [],
   "source": [
    "import os"
   ]
  },
  {
   "cell_type": "code",
   "execution_count": 7,
   "id": "18385355-8b3b-4bc4-829e-c0239fc0780f",
   "metadata": {
    "id": "18385355-8b3b-4bc4-829e-c0239fc0780f"
   },
   "outputs": [],
   "source": [
    "import numpy as np"
   ]
  },
  {
   "cell_type": "code",
   "execution_count": 8,
   "id": "da740389-2164-4f76-ab71-b29945d87748",
   "metadata": {
    "id": "da740389-2164-4f76-ab71-b29945d87748"
   },
   "outputs": [],
   "source": [
    "import pytorch_lightning as pl"
   ]
  },
  {
   "cell_type": "code",
   "execution_count": 9,
   "id": "7ea474db-2806-4731-867e-a33c49ef9f9c",
   "metadata": {
    "colab": {
     "base_uri": "https://localhost:8080/"
    },
    "id": "7ea474db-2806-4731-867e-a33c49ef9f9c",
    "outputId": "8c0a4117-487a-4e07-fb76-385612f32629"
   },
   "outputs": [
    {
     "name": "stderr",
     "output_type": "stream",
     "text": [
      "Global seed set to 42\n"
     ]
    }
   ],
   "source": [
    "# Setting the seed\n",
    "pl.seed_everything(42)\n",
    "\n",
    "# Ensure that all operations are deterministic on GPU (if used) for reproducibility\n",
    "torch.backends.cudnn.deterministic = True\n",
    "torch.backends.cudnn.benchmark = False"
   ]
  },
  {
   "cell_type": "code",
   "execution_count": 10,
   "id": "ab77bcad-ee02-43f1-9a8e-0b9b60a4de2f",
   "metadata": {
    "id": "ab77bcad-ee02-43f1-9a8e-0b9b60a4de2f"
   },
   "outputs": [],
   "source": [
    "train_set, val_set, class_weights = dataset_utils.get_dataset(train_percent=0.9, rotation_transform=True)"
   ]
  },
  {
   "cell_type": "code",
   "execution_count": 11,
   "id": "78ee4f20-e48a-411b-8fbc-a3c0e65a86b6",
   "metadata": {},
   "outputs": [],
   "source": [
    "#train_set = Subset(train_set, torch.arange(100))\n",
    "#val_set = Subset(val_set, torch.arange(100))"
   ]
  },
  {
   "cell_type": "code",
   "execution_count": 12,
   "id": "39155789-2e51-4925-af54-8fe27edf8e69",
   "metadata": {
    "id": "39155789-2e51-4925-af54-8fe27edf8e69"
   },
   "outputs": [],
   "source": [
    "train_loader = DataLoader(train_set, batch_size=32, shuffle=True,\n",
    "                               drop_last=True, pin_memory=True, num_workers=8)\n",
    "val_loader = DataLoader(val_set, batch_size=32, shuffle=False,\n",
    "                             drop_last=False, num_workers=8)"
   ]
  },
  {
   "cell_type": "code",
   "execution_count": 13,
   "id": "91ddd43e-3442-4a9c-94e1-6fdf06dee61e",
   "metadata": {
    "colab": {
     "base_uri": "https://localhost:8080/"
    },
    "id": "91ddd43e-3442-4a9c-94e1-6fdf06dee61e",
    "outputId": "dd507e4f-61c9-417d-c90b-a970a53d0f9e"
   },
   "outputs": [
    {
     "name": "stdout",
     "output_type": "stream",
     "text": [
      "Using device cuda:0\n"
     ]
    }
   ],
   "source": [
    "device = torch.device(\"cpu\") if not torch.cuda.is_available() else torch.device(\"cuda:0\")\n",
    "print(\"Using device\", device)"
   ]
  },
  {
   "cell_type": "code",
   "execution_count": 14,
   "id": "16f528b7-4868-478c-b9db-72984fba1b18",
   "metadata": {
    "id": "16f528b7-4868-478c-b9db-72984fba1b18"
   },
   "outputs": [],
   "source": [
    "import torchinfo"
   ]
  },
  {
   "cell_type": "code",
   "execution_count": 15,
   "id": "de8d113c-becd-438a-a8ba-e53a9ea44e0d",
   "metadata": {
    "id": "de8d113c-becd-438a-a8ba-e53a9ea44e0d"
   },
   "outputs": [],
   "source": [
    "from torch import optim, nn\n",
    "import timm\n",
    "import torchmetrics"
   ]
  },
  {
   "cell_type": "code",
   "execution_count": 16,
   "id": "690be635-5b71-4eb2-bb15-1262c2ee49a1",
   "metadata": {},
   "outputs": [],
   "source": [
    "import torch.nn.functional as F"
   ]
  },
  {
   "cell_type": "code",
   "execution_count": 17,
   "id": "3c830382-717f-4cb3-9b5e-f47710c43f75",
   "metadata": {},
   "outputs": [],
   "source": [
    "class STNet(nn.Module):\n",
    "    def __init__(self):\n",
    "        super(STNet, self).__init__()\n",
    "        \n",
    "        self.localization = nn.Sequential(\n",
    "            nn.Conv2d(1, 8, kernel_size=7),\n",
    "            nn.MaxPool2d(5, stride=5),\n",
    "            nn.ReLU(),\n",
    "            nn.Conv2d(8, 10, kernel_size=5),\n",
    "            nn.MaxPool2d(5, stride=5),\n",
    "            nn.ReLU(),\n",
    "            nn.Conv2d(10, 10, kernel_size=3),\n",
    "            nn.MaxPool2d(3, stride=3),\n",
    "            nn.ReLU()\n",
    "        )\n",
    "        \n",
    "        self.fc_loc = nn.Sequential(\n",
    "            nn.Linear(160, 32),\n",
    "            nn.ReLU(),\n",
    "            nn.Linear(32, 3 * 2)\n",
    "        )\n",
    "        \n",
    "        #def _init_weights(m):\n",
    "        #    if isinstance(m, (nn.Linear, nn.Conv2d)):\n",
    "        #        torch.nn.init.xavier_uniform_(m.weight)\n",
    "        #        m.bias.data.fill_(0.01)\n",
    "        \n",
    "        #self.localization.apply(_init_weights)\n",
    "        \n",
    "        #torch.nn.init.xavier_uniform_(self.fc_loc[0].weight)\n",
    "        #self.fc_loc[0].bias.data.fill_(0.01)\n",
    "        \n",
    "        self.fc_loc[2].weight.data.zero_()\n",
    "        self.fc_loc[2].bias.data.copy_(torch.tensor([1, 0, 0, 0, 1, 0], dtype=torch.float))\n",
    "\n",
    "    def forward(self, x, mask=None):\n",
    "        xs = self.localization(x)\n",
    "        xs = xs.view(x.shape[0], -1)\n",
    "        theta = self.fc_loc(xs)\n",
    "        if mask is not None:\n",
    "            theta[mask==False] = torch.tensor([1, 0, 0, 0, 1, 0], dtype=torch.float).to(device)\n",
    "        theta = theta.view(x.shape[0], 2, 3)\n",
    "        grid = F.affine_grid(theta, x.size(), align_corners=True)\n",
    "        x = F.grid_sample(x, grid, align_corners=True)\n",
    "\n",
    "        return x"
   ]
  },
  {
   "cell_type": "code",
   "execution_count": 18,
   "id": "6e4960d6-caa5-4725-8785-03ce541d8939",
   "metadata": {},
   "outputs": [],
   "source": [
    "stn = STNet()"
   ]
  },
  {
   "cell_type": "code",
   "execution_count": 19,
   "id": "d2308286-24f6-4898-ad50-94c466bf8a27",
   "metadata": {},
   "outputs": [
    {
     "name": "stderr",
     "output_type": "stream",
     "text": [
      "/home/tiurin/anaconda3/envs/mri_gpu/lib/python3.10/site-packages/torch/nn/functional.py:4227: UserWarning: Default grid_sample and affine_grid behavior has changed to align_corners=False since 1.3.0. Please specify align_corners=True if the old behavior is desired. See the documentation of grid_sample for details.\n",
      "  warnings.warn(\n"
     ]
    },
    {
     "data": {
      "text/plain": [
       "==========================================================================================\n",
       "Layer (type:depth-idx)                   Output Shape              Param #\n",
       "==========================================================================================\n",
       "STNet                                    [32, 1, 400, 400]         --\n",
       "├─Sequential: 1-1                        [32, 10, 4, 4]            --\n",
       "│    └─Conv2d: 2-1                       [32, 8, 394, 394]         400\n",
       "│    └─MaxPool2d: 2-2                    [32, 8, 78, 78]           --\n",
       "│    └─ReLU: 2-3                         [32, 8, 78, 78]           --\n",
       "│    └─Conv2d: 2-4                       [32, 10, 74, 74]          2,010\n",
       "│    └─MaxPool2d: 2-5                    [32, 10, 14, 14]          --\n",
       "│    └─ReLU: 2-6                         [32, 10, 14, 14]          --\n",
       "│    └─Conv2d: 2-7                       [32, 10, 12, 12]          910\n",
       "│    └─MaxPool2d: 2-8                    [32, 10, 4, 4]            --\n",
       "│    └─ReLU: 2-9                         [32, 10, 4, 4]            --\n",
       "├─Sequential: 1-2                        [32, 6]                   --\n",
       "│    └─Linear: 2-10                      [32, 32]                  5,152\n",
       "│    └─ReLU: 2-11                        [32, 32]                  --\n",
       "│    └─Linear: 2-12                      [32, 6]                   198\n",
       "==========================================================================================\n",
       "Total params: 8,670\n",
       "Trainable params: 8,670\n",
       "Non-trainable params: 0\n",
       "Total mult-adds (G): 2.34\n",
       "==========================================================================================\n",
       "Input size (MB): 20.48\n",
       "Forward/backward pass size (MB): 332.32\n",
       "Params size (MB): 0.03\n",
       "Estimated Total Size (MB): 352.83\n",
       "=========================================================================================="
      ]
     },
     "execution_count": 19,
     "metadata": {},
     "output_type": "execute_result"
    }
   ],
   "source": [
    "torchinfo.summary(stn, (32, 1, 400, 400))"
   ]
  },
  {
   "cell_type": "code",
   "execution_count": 20,
   "id": "b692748b-f1d8-47ee-9852-18779928704b",
   "metadata": {
    "id": "b692748b-f1d8-47ee-9852-18779928704b"
   },
   "outputs": [],
   "source": [
    "class EyeQualityModel(pl.LightningModule):\n",
    "    def __init__(self, class_weights=None):\n",
    "        super().__init__()\n",
    "        \n",
    "        self.stn = STNet()\n",
    "        \n",
    "        self.net = timm.create_model('efficientnet_es', pretrained=True, in_chans=1)\n",
    "        self.net.classifier = nn.Identity()\n",
    "        self.classifier = nn.Linear(1280, 2)\n",
    "        \n",
    "        #torch.nn.init.xavier_uniform_(self.classifier.weight)\n",
    "        #self.classifier.bias.data.fill_(0.01)\n",
    "\n",
    "        self.class_weights = class_weights\n",
    "        self.example_input_array = train_set[0][1].unsqueeze(0)\n",
    "        \n",
    "    def forward(self, x, mask_use_for_stn=None):\n",
    "        x = self.stn(x, mask_use_for_stn)\n",
    "        x = self.net(x)\n",
    "        x = self.classifier(x)\n",
    "        return x\n",
    "    \n",
    "    def ordinal_regression(self, predictions, targets):\n",
    "        modified_target = torch.zeros_like(predictions)\n",
    "        for i, target in enumerate(targets):\n",
    "            if target > 0:\n",
    "                modified_target[i, 0:target] = 1\n",
    "        loss = torch.nn.functional.binary_cross_entropy_with_logits(predictions,\n",
    "                                                                    modified_target,\n",
    "                                                                    reduction='none').sum(dim=1)\n",
    "        if self.class_weights is not None:\n",
    "            for i, target in enumerate(targets):\n",
    "                loss[i] *= self.class_weights[target]\n",
    "        return loss\n",
    "    \n",
    "    def predict(self, img):\n",
    "        x = self.forward(img)\n",
    "        c = self.prediction2label(x)\n",
    "        return c\n",
    "\n",
    "    def prediction2label(self, pred: np.ndarray):\n",
    "        pred = torch.sigmoid(pred)\n",
    "        return torch.clamp((pred > 0.5).cumprod(axis=1).sum(axis=1), min=0)\n",
    "    \n",
    "    def training_step(self, batch, batch_idx):\n",
    "        class_lbl, img = batch\n",
    "        #mask_use_for_stn = class_lbl > 0\n",
    "        mask_use_for_stn = None\n",
    "        c = self.forward(img, mask_use_for_stn)\n",
    "        loss = self.ordinal_regression(c, class_lbl)\n",
    "        self.log(\"train_loss\", loss.mean())\n",
    "        return loss.mean()\n",
    "    \n",
    "    def validation_step(self, batch, batch_idx):\n",
    "        class_lbl, img = batch\n",
    "        c = self.forward(img)\n",
    "        loss = self.ordinal_regression(c, class_lbl)\n",
    "        self.log(\"val_loss\", loss.mean())\n",
    "        res = torch.vstack([self.prediction2label(c), class_lbl])\n",
    "        return res\n",
    "    \n",
    "    def validation_epoch_end(self, validation_step_outputs):\n",
    "        all_preds = torch.hstack(validation_step_outputs)\n",
    "        acc = (all_preds[0,:] == all_preds[1,:]).sum()/all_preds.shape[-1]\n",
    "        self.log(\"val_accuracy\", acc)\n",
    "\n",
    "    def configure_optimizers(self):\n",
    "        optimizer = optim.Adam(self.parameters(), lr=1e-3)\n",
    "        scheduler = optim.lr_scheduler.ExponentialLR(optimizer, gamma=0.95)\n",
    "        return [optimizer], [scheduler]"
   ]
  },
  {
   "cell_type": "code",
   "execution_count": 21,
   "id": "0b7acaa0-cd53-40a1-a8f2-61e4b16e5151",
   "metadata": {
    "id": "0b7acaa0-cd53-40a1-a8f2-61e4b16e5151"
   },
   "outputs": [],
   "source": [
    "model = EyeQualityModel(class_weights)"
   ]
  },
  {
   "cell_type": "code",
   "execution_count": 22,
   "id": "856d7f56-6cdd-4204-b44f-d97616f3dabe",
   "metadata": {},
   "outputs": [
    {
     "data": {
      "text/plain": [
       "tensor([2.2797, 2.1154, 1.3084])"
      ]
     },
     "execution_count": 22,
     "metadata": {},
     "output_type": "execute_result"
    }
   ],
   "source": [
    "class_weights"
   ]
  },
  {
   "cell_type": "code",
   "execution_count": 23,
   "id": "5c031cfd-5bd7-4dfa-a6b6-d7d953d6d3f6",
   "metadata": {},
   "outputs": [],
   "source": [
    "out = model(torch.zeros([1,1,400,400]))"
   ]
  },
  {
   "cell_type": "code",
   "execution_count": 24,
   "id": "039b1f0a-f71a-40af-a4f4-f51499288df6",
   "metadata": {},
   "outputs": [
    {
     "data": {
      "text/plain": [
       "tensor([[-0.0124, -0.0812]], grad_fn=<AddmmBackward0>)"
      ]
     },
     "execution_count": 24,
     "metadata": {},
     "output_type": "execute_result"
    }
   ],
   "source": [
    "out"
   ]
  },
  {
   "cell_type": "code",
   "execution_count": 25,
   "id": "ddb4ca78-b18f-483b-b96d-0989eb6659b1",
   "metadata": {},
   "outputs": [
    {
     "data": {
      "text/plain": [
       "tensor([[0.6870, 0.6534]], grad_fn=<BinaryCrossEntropyWithLogitsBackward0>)"
      ]
     },
     "execution_count": 25,
     "metadata": {},
     "output_type": "execute_result"
    }
   ],
   "source": [
    "torch.nn.functional.binary_cross_entropy_with_logits(out, torch.zeros([1,2]), reduction='none')"
   ]
  },
  {
   "cell_type": "code",
   "execution_count": 26,
   "id": "9be384dc-f563-4c21-b9b0-24c1ed19f83a",
   "metadata": {},
   "outputs": [
    {
     "data": {
      "text/plain": [
       "====================================================================================================\n",
       "Layer (type:depth-idx)                             Output Shape              Param #\n",
       "====================================================================================================\n",
       "EyeQualityModel                                    [1, 2]                    --\n",
       "├─STNet: 1-1                                       [1, 1, 400, 400]          --\n",
       "│    └─Sequential: 2-1                             [1, 10, 4, 4]             --\n",
       "│    │    └─Conv2d: 3-1                            [1, 8, 394, 394]          400\n",
       "│    │    └─MaxPool2d: 3-2                         [1, 8, 78, 78]            --\n",
       "│    │    └─ReLU: 3-3                              [1, 8, 78, 78]            --\n",
       "│    │    └─Conv2d: 3-4                            [1, 10, 74, 74]           2,010\n",
       "│    │    └─MaxPool2d: 3-5                         [1, 10, 14, 14]           --\n",
       "│    │    └─ReLU: 3-6                              [1, 10, 14, 14]           --\n",
       "│    │    └─Conv2d: 3-7                            [1, 10, 12, 12]           910\n",
       "│    │    └─MaxPool2d: 3-8                         [1, 10, 4, 4]             --\n",
       "│    │    └─ReLU: 3-9                              [1, 10, 4, 4]             --\n",
       "│    └─Sequential: 2-2                             [1, 6]                    --\n",
       "│    │    └─Linear: 3-10                           [1, 32]                   5,152\n",
       "│    │    └─ReLU: 3-11                             [1, 32]                   --\n",
       "│    │    └─Linear: 3-12                           [1, 6]                    198\n",
       "├─EfficientNet: 1-2                                [1, 1280]                 --\n",
       "│    └─Conv2d: 2-3                                 [1, 32, 200, 200]         288\n",
       "│    └─BatchNormAct2d: 2-4                         [1, 32, 200, 200]         64\n",
       "│    │    └─Identity: 3-13                         [1, 32, 200, 200]         --\n",
       "│    │    └─ReLU: 3-14                             [1, 32, 200, 200]         --\n",
       "│    └─Sequential: 2-5                             [1, 192, 13, 13]          --\n",
       "│    │    └─Sequential: 3-15                       [1, 24, 200, 200]         30,192\n",
       "│    │    └─Sequential: 3-16                       [1, 32, 100, 100]         130,560\n",
       "│    │    └─Sequential: 3-17                       [1, 48, 50, 50]           642,176\n",
       "│    │    └─Sequential: 3-18                       [1, 96, 25, 25]           746,304\n",
       "│    │    └─Sequential: 3-19                       [1, 144, 25, 25]          1,303,296\n",
       "│    │    └─Sequential: 3-20                       [1, 192, 13, 13]          1,055,616\n",
       "│    └─Conv2d: 2-6                                 [1, 1280, 13, 13]         245,760\n",
       "│    └─BatchNormAct2d: 2-7                         [1, 1280, 13, 13]         2,560\n",
       "│    │    └─Identity: 3-21                         [1, 1280, 13, 13]         --\n",
       "│    │    └─ReLU: 3-22                             [1, 1280, 13, 13]         --\n",
       "│    └─SelectAdaptivePool2d: 2-8                   [1, 1280]                 --\n",
       "│    │    └─AdaptiveAvgPool2d: 3-23                [1, 1280, 1, 1]           --\n",
       "│    │    └─Flatten: 3-24                          [1, 1280]                 --\n",
       "│    └─Identity: 2-9                               [1, 1280]                 --\n",
       "├─Linear: 1-3                                      [1, 2]                    2,562\n",
       "====================================================================================================\n",
       "Total params: 4,168,048\n",
       "Trainable params: 4,168,048\n",
       "Non-trainable params: 0\n",
       "Total mult-adds (G): 5.76\n",
       "====================================================================================================\n",
       "Input size (MB): 0.64\n",
       "Forward/backward pass size (MB): 233.55\n",
       "Params size (MB): 16.47\n",
       "Estimated Total Size (MB): 250.65\n",
       "===================================================================================================="
      ]
     },
     "execution_count": 26,
     "metadata": {},
     "output_type": "execute_result"
    }
   ],
   "source": [
    "torchinfo.summary(model, (1, 1, 400, 400))"
   ]
  },
  {
   "cell_type": "code",
   "execution_count": 27,
   "id": "YZgUerE9hUU6",
   "metadata": {
    "id": "YZgUerE9hUU6"
   },
   "outputs": [],
   "source": [
    "checkpoint_path = os.path.join(root_dir, 'training')"
   ]
  },
  {
   "cell_type": "code",
   "execution_count": 28,
   "id": "wFUYissLhkQk",
   "metadata": {
    "id": "wFUYissLhkQk"
   },
   "outputs": [],
   "source": [
    "from pytorch_lightning.callbacks import ModelCheckpoint, LearningRateMonitor"
   ]
  },
  {
   "cell_type": "code",
   "execution_count": 29,
   "id": "d0e0b708-19bd-42c0-a76b-5c145290c19a",
   "metadata": {},
   "outputs": [],
   "source": [
    "model = model.to(device)"
   ]
  },
  {
   "cell_type": "code",
   "execution_count": 30,
   "id": "gAkPPBvRhLed",
   "metadata": {
    "colab": {
     "base_uri": "https://localhost:8080/",
     "height": 441,
     "referenced_widgets": [
      "944f421589c34b188877893b3d2a998e",
      "4362cf691be14b1490a93c6441db7366",
      "35dc1845b46944269c02d23ab7a98069",
      "2f915dff2e78451a8eda5b0cdd974ca4",
      "2216328177984ad0add9fe87bd805f3f",
      "115336805748496fb96e856e2dc3188c",
      "0d1198dc6fad45c38837918416b1a74a",
      "2ce9f3de3e414ea4b908f380d1f7cec9",
      "c52014d3baf740bf8abc6d293ec76a0f",
      "ab962eb41e224e99a11aa17b786b3f53",
      "91bff599a8384e1aac3a7ca2afdd42a6",
      "e3a36920190e4a83aafcbc5ee7a9e9db",
      "7f8f7b34dfa3457cbdea68ef1d9a2f02",
      "7e073151707c48c0a7efcba939ba2607",
      "d3e8897060154117a7fae42d0ce6f7d0",
      "444792adc43b4c21bbe1615abeaadc79",
      "4338c85b2a224c1499fd2f360c84e5cb",
      "20d01ef924274818951a05888c582c7e",
      "a694a34518b844c2a0a21de63f69c76a",
      "2d1e6bcdf56c409890442a7efbd67728",
      "9b0ecc3c886847fd80f35070649156ab",
      "57066c4596434ca6a264cea47b081994"
     ]
    },
    "id": "gAkPPBvRhLed",
    "outputId": "89d39bbe-a1df-4308-b876-da5d1f5bbab1"
   },
   "outputs": [
    {
     "name": "stderr",
     "output_type": "stream",
     "text": [
      "GPU available: True (cuda), used: True\n",
      "TPU available: False, using: 0 TPU cores\n",
      "IPU available: False, using: 0 IPUs\n",
      "HPU available: False, using: 0 HPUs\n",
      "/home/tiurin/anaconda3/envs/mri_gpu/lib/python3.10/site-packages/pytorch_lightning/callbacks/model_checkpoint.py:616: UserWarning: Checkpoint directory /share/data_rechenknecht03_2/students/tiurin/projects/ExampleProject/Temp/training exists and is not empty.\n",
      "  rank_zero_warn(f\"Checkpoint directory {dirpath} exists and is not empty.\")\n",
      "LOCAL_RANK: 0 - CUDA_VISIBLE_DEVICES: [0,1,2,3]\n",
      "\n",
      "  | Name       | Type         | Params | In sizes                | Out sizes       \n",
      "-----------------------------------------------------------------------------------------\n",
      "0 | stn        | STNet        | 8.7 K  | [[1, 1, 400, 400], '?'] | [1, 1, 400, 400]\n",
      "1 | net        | EfficientNet | 4.2 M  | [1, 1, 400, 400]        | [1, 1280]       \n",
      "2 | classifier | Linear       | 2.6 K  | [1, 1280]               | [1, 2]          \n",
      "-----------------------------------------------------------------------------------------\n",
      "4.2 M     Trainable params\n",
      "0         Non-trainable params\n",
      "4.2 M     Total params\n",
      "16.672    Total estimated model params size (MB)\n"
     ]
    },
    {
     "data": {
      "application/vnd.jupyter.widget-view+json": {
       "model_id": "",
       "version_major": 2,
       "version_minor": 0
      },
      "text/plain": [
       "Sanity Checking: 0it [00:00, ?it/s]"
      ]
     },
     "metadata": {},
     "output_type": "display_data"
    },
    {
     "data": {
      "application/vnd.jupyter.widget-view+json": {
       "model_id": "b59902f5d5404d9a84d5b676cc5d44b8",
       "version_major": 2,
       "version_minor": 0
      },
      "text/plain": [
       "Training: 0it [00:00, ?it/s]"
      ]
     },
     "metadata": {},
     "output_type": "display_data"
    },
    {
     "data": {
      "application/vnd.jupyter.widget-view+json": {
       "model_id": "",
       "version_major": 2,
       "version_minor": 0
      },
      "text/plain": [
       "Validation: 0it [00:00, ?it/s]"
      ]
     },
     "metadata": {},
     "output_type": "display_data"
    },
    {
     "data": {
      "application/vnd.jupyter.widget-view+json": {
       "model_id": "",
       "version_major": 2,
       "version_minor": 0
      },
      "text/plain": [
       "Validation: 0it [00:00, ?it/s]"
      ]
     },
     "metadata": {},
     "output_type": "display_data"
    },
    {
     "data": {
      "application/vnd.jupyter.widget-view+json": {
       "model_id": "",
       "version_major": 2,
       "version_minor": 0
      },
      "text/plain": [
       "Validation: 0it [00:00, ?it/s]"
      ]
     },
     "metadata": {},
     "output_type": "display_data"
    },
    {
     "name": "stderr",
     "output_type": "stream",
     "text": [
      "IOPub message rate exceeded.\n",
      "The Jupyter server will temporarily stop sending output\n",
      "to the client in order to avoid crashing it.\n",
      "To change this limit, set the config variable\n",
      "`--ServerApp.iopub_msg_rate_limit`.\n",
      "\n",
      "Current values:\n",
      "ServerApp.iopub_msg_rate_limit=1000.0 (msgs/sec)\n",
      "ServerApp.rate_limit_window=3.0 (secs)\n",
      "\n"
     ]
    },
    {
     "data": {
      "application/vnd.jupyter.widget-view+json": {
       "model_id": "",
       "version_major": 2,
       "version_minor": 0
      },
      "text/plain": [
       "Validation: 0it [00:00, ?it/s]"
      ]
     },
     "metadata": {},
     "output_type": "display_data"
    },
    {
     "name": "stderr",
     "output_type": "stream",
     "text": [
      "/home/tiurin/anaconda3/envs/mri_gpu/lib/python3.10/site-packages/pytorch_lightning/trainer/trainer.py:653: UserWarning: Detected KeyboardInterrupt, attempting graceful shutdown...\n",
      "  rank_zero_warn(\"Detected KeyboardInterrupt, attempting graceful shutdown...\")\n"
     ]
    }
   ],
   "source": [
    "trainer = pl.Trainer(default_root_dir=checkpoint_path,\n",
    "    accelerator=\"gpu\" if str(device).startswith(\"cuda\") else \"cpu\",\n",
    "    devices=[device.index],\n",
    "    max_epochs=5,\n",
    "    callbacks=[ModelCheckpoint(dirpath=checkpoint_path, \n",
    "                filename='eyeq_model-{epoch}-{val_accuracy:.2f}', \n",
    "                save_weights_only=True, \n",
    "                save_last=True),\n",
    "                LearningRateMonitor(\"epoch\")],\n",
    "    check_val_every_n_epoch=1)\n",
    "\n",
    "trainer.logger._log_graph = True\n",
    "trainer.logger._default_hp_metric = None\n",
    "\n",
    "trainer.fit(model, train_loader, val_loader)"
   ]
  },
  {
   "cell_type": "code",
   "execution_count": 32,
   "id": "bcc69ea8-9c08-4556-83a0-89c858cc7e37",
   "metadata": {},
   "outputs": [],
   "source": [
    "import matplotlib.pyplot as plt"
   ]
  },
  {
   "cell_type": "code",
   "execution_count": 43,
   "id": "2456170e-654a-4db8-bef5-34fcc14bcac3",
   "metadata": {},
   "outputs": [],
   "source": [
    "model = model.eval()"
   ]
  },
  {
   "cell_type": "code",
   "execution_count": 100,
   "id": "a873496e-fb9d-4f0e-828a-4f4d47d628b0",
   "metadata": {},
   "outputs": [
    {
     "data": {
      "text/plain": [
       "2"
      ]
     },
     "execution_count": 100,
     "metadata": {},
     "output_type": "execute_result"
    }
   ],
   "source": [
    "s = val_set[2000]\n",
    "s[0]"
   ]
  },
  {
   "cell_type": "code",
   "execution_count": 101,
   "id": "761a358e-e61a-428c-9a23-2078bf5ed7b1",
   "metadata": {},
   "outputs": [
    {
     "data": {
      "text/plain": [
       "<matplotlib.image.AxesImage at 0x7f7191a373d0>"
      ]
     },
     "execution_count": 101,
     "metadata": {},
     "output_type": "execute_result"
    },
    {
     "data": {
      "image/png": "[encoded data removed]",
      "text/plain": [
       "<Figure size 640x480 with 1 Axes>"
      ]
     },
     "metadata": {},
     "output_type": "display_data"
    }
   ],
   "source": [
    "plt.imshow(dataset_utils.prepare_for_vis(s[1]))"
   ]
  },
  {
   "cell_type": "code",
   "execution_count": 102,
   "id": "716f0f46-6e51-4d36-9862-2ffcf41d8662",
   "metadata": {},
   "outputs": [],
   "source": [
    "x_tnsfm = model.stn(s[1].unsqueeze(0))"
   ]
  },
  {
   "cell_type": "code",
   "execution_count": 103,
   "id": "a1d445c1-6de5-4cdf-b5cb-b4bb05f3af1d",
   "metadata": {},
   "outputs": [
    {
     "data": {
      "text/plain": [
       "<matplotlib.image.AxesImage at 0x7f7191aa28f0>"
      ]
     },
     "execution_count": 103,
     "metadata": {},
     "output_type": "execute_result"
    },
    {
     "data": {
      "image/png": "[encoded data removed]",
      "text/plain": [
       "<Figure size 640x480 with 1 Axes>"
      ]
     },
     "metadata": {},
     "output_type": "display_data"
    }
   ],
   "source": [
    "plt.imshow(dataset_utils.prepare_for_vis(x_tnsfm.squeeze(0)))"
   ]
  },
  {
   "cell_type": "code",
   "execution_count": 121,
   "id": "d6165be5-6e35-4950-9429-32641dd3abb8",
   "metadata": {},
   "outputs": [],
   "source": [
    "from tqdm import tqdm"
   ]
  },
  {
   "cell_type": "code",
   "execution_count": 130,
   "id": "b1dd56c2-e06a-4e25-9e0f-c1b4c19a99ff",
   "metadata": {},
   "outputs": [
    {
     "name": "stderr",
     "output_type": "stream",
     "text": [
      "\n",
      "0it [00:00, ?it/s]\u001b[A\n",
      "1it [00:08,  8.19s/it]\u001b[A\n",
      "2it [00:14,  6.98s/it]\u001b[A\n",
      "3it [00:19,  6.36s/it]\u001b[A\n",
      "4it [00:25,  6.04s/it]\u001b[A\n",
      "5it [00:31,  5.87s/it]\u001b[A\n",
      "6it [00:37,  6.31s/it]\u001b[A\n"
     ]
    },
    {
     "ename": "KeyboardInterrupt",
     "evalue": "",
     "output_type": "error",
     "traceback": [
      "\u001b[0;31m---------------------------------------------------------------------------\u001b[0m",
      "\u001b[0;31mKeyboardInterrupt\u001b[0m                         Traceback (most recent call last)",
      "Input \u001b[0;32mIn [130]\u001b[0m, in \u001b[0;36m<cell line: 4>\u001b[0;34m()\u001b[0m\n\u001b[1;32m      5\u001b[0m classes, imgs \u001b[38;5;241m=\u001b[39m batch\n\u001b[1;32m      6\u001b[0m imgs \u001b[38;5;241m=\u001b[39m imgs\u001b[38;5;241m.\u001b[39mto(\u001b[38;5;124m'\u001b[39m\u001b[38;5;124mcpu\u001b[39m\u001b[38;5;124m'\u001b[39m)\n\u001b[0;32m----> 7\u001b[0m res \u001b[38;5;241m=\u001b[39m \u001b[43mmodel\u001b[49m\u001b[38;5;241;43m.\u001b[39;49m\u001b[43mpredict\u001b[49m\u001b[43m(\u001b[49m\u001b[43mimgs\u001b[49m\u001b[43m)\u001b[49m\n\u001b[1;32m      9\u001b[0m \u001b[38;5;28;01mfor\u001b[39;00m i \u001b[38;5;129;01min\u001b[39;00m \u001b[38;5;28mrange\u001b[39m(classes\u001b[38;5;241m.\u001b[39mshape[\u001b[38;5;241m0\u001b[39m]):\n\u001b[1;32m     10\u001b[0m     confusion_mat[classes[i], res[i]] \u001b[38;5;241m+\u001b[39m\u001b[38;5;241m=\u001b[39m \u001b[38;5;241m1\u001b[39m\n",
      "Input \u001b[0;32mIn [20]\u001b[0m, in \u001b[0;36mEyeQualityModel.predict\u001b[0;34m(self, img)\u001b[0m\n\u001b[1;32m     36\u001b[0m \u001b[38;5;28;01mdef\u001b[39;00m \u001b[38;5;21mpredict\u001b[39m(\u001b[38;5;28mself\u001b[39m, img):\n\u001b[0;32m---> 37\u001b[0m     x \u001b[38;5;241m=\u001b[39m \u001b[38;5;28;43mself\u001b[39;49m\u001b[38;5;241;43m.\u001b[39;49m\u001b[43mforward\u001b[49m\u001b[43m(\u001b[49m\u001b[43mimg\u001b[49m\u001b[43m)\u001b[49m\n\u001b[1;32m     38\u001b[0m     c \u001b[38;5;241m=\u001b[39m \u001b[38;5;28mself\u001b[39m\u001b[38;5;241m.\u001b[39mprediction2label(x)\n\u001b[1;32m     39\u001b[0m     \u001b[38;5;28;01mreturn\u001b[39;00m c\n",
      "Input \u001b[0;32mIn [20]\u001b[0m, in \u001b[0;36mEyeQualityModel.forward\u001b[0;34m(self, x, mask_use_for_stn)\u001b[0m\n\u001b[1;32m     17\u001b[0m \u001b[38;5;28;01mdef\u001b[39;00m \u001b[38;5;21mforward\u001b[39m(\u001b[38;5;28mself\u001b[39m, x, mask_use_for_stn\u001b[38;5;241m=\u001b[39m\u001b[38;5;28;01mNone\u001b[39;00m):\n\u001b[1;32m     18\u001b[0m     x \u001b[38;5;241m=\u001b[39m \u001b[38;5;28mself\u001b[39m\u001b[38;5;241m.\u001b[39mstn(x, mask_use_for_stn)\n\u001b[0;32m---> 19\u001b[0m     x \u001b[38;5;241m=\u001b[39m \u001b[38;5;28;43mself\u001b[39;49m\u001b[38;5;241;43m.\u001b[39;49m\u001b[43mnet\u001b[49m\u001b[43m(\u001b[49m\u001b[43mx\u001b[49m\u001b[43m)\u001b[49m\n\u001b[1;32m     20\u001b[0m     x \u001b[38;5;241m=\u001b[39m \u001b[38;5;28mself\u001b[39m\u001b[38;5;241m.\u001b[39mclassifier(x)\n\u001b[1;32m     21\u001b[0m     \u001b[38;5;28;01mreturn\u001b[39;00m x\n",
      "File \u001b[0;32m~/anaconda3/envs/mri_gpu/lib/python3.10/site-packages/torch/nn/modules/module.py:1190\u001b[0m, in \u001b[0;36mModule._call_impl\u001b[0;34m(self, *input, **kwargs)\u001b[0m\n\u001b[1;32m   1186\u001b[0m \u001b[38;5;66;03m# If we don't have any hooks, we want to skip the rest of the logic in\u001b[39;00m\n\u001b[1;32m   1187\u001b[0m \u001b[38;5;66;03m# this function, and just call forward.\u001b[39;00m\n\u001b[1;32m   1188\u001b[0m \u001b[38;5;28;01mif\u001b[39;00m \u001b[38;5;129;01mnot\u001b[39;00m (\u001b[38;5;28mself\u001b[39m\u001b[38;5;241m.\u001b[39m_backward_hooks \u001b[38;5;129;01mor\u001b[39;00m \u001b[38;5;28mself\u001b[39m\u001b[38;5;241m.\u001b[39m_forward_hooks \u001b[38;5;129;01mor\u001b[39;00m \u001b[38;5;28mself\u001b[39m\u001b[38;5;241m.\u001b[39m_forward_pre_hooks \u001b[38;5;129;01mor\u001b[39;00m _global_backward_hooks\n\u001b[1;32m   1189\u001b[0m         \u001b[38;5;129;01mor\u001b[39;00m _global_forward_hooks \u001b[38;5;129;01mor\u001b[39;00m _global_forward_pre_hooks):\n\u001b[0;32m-> 1190\u001b[0m     \u001b[38;5;28;01mreturn\u001b[39;00m \u001b[43mforward_call\u001b[49m\u001b[43m(\u001b[49m\u001b[38;5;241;43m*\u001b[39;49m\u001b[38;5;28;43minput\u001b[39;49m\u001b[43m,\u001b[49m\u001b[43m \u001b[49m\u001b[38;5;241;43m*\u001b[39;49m\u001b[38;5;241;43m*\u001b[39;49m\u001b[43mkwargs\u001b[49m\u001b[43m)\u001b[49m\n\u001b[1;32m   1191\u001b[0m \u001b[38;5;66;03m# Do not call functions when jit is used\u001b[39;00m\n\u001b[1;32m   1192\u001b[0m full_backward_hooks, non_full_backward_hooks \u001b[38;5;241m=\u001b[39m [], []\n",
      "File \u001b[0;32m~/anaconda3/envs/mri_gpu/lib/python3.10/site-packages/timm/models/efficientnet.py:557\u001b[0m, in \u001b[0;36mEfficientNet.forward\u001b[0;34m(self, x)\u001b[0m\n\u001b[1;32m    556\u001b[0m \u001b[38;5;28;01mdef\u001b[39;00m \u001b[38;5;21mforward\u001b[39m(\u001b[38;5;28mself\u001b[39m, x):\n\u001b[0;32m--> 557\u001b[0m     x \u001b[38;5;241m=\u001b[39m \u001b[38;5;28;43mself\u001b[39;49m\u001b[38;5;241;43m.\u001b[39;49m\u001b[43mforward_features\u001b[49m\u001b[43m(\u001b[49m\u001b[43mx\u001b[49m\u001b[43m)\u001b[49m\n\u001b[1;32m    558\u001b[0m     x \u001b[38;5;241m=\u001b[39m \u001b[38;5;28mself\u001b[39m\u001b[38;5;241m.\u001b[39mforward_head(x)\n\u001b[1;32m    559\u001b[0m     \u001b[38;5;28;01mreturn\u001b[39;00m x\n",
      "File \u001b[0;32m~/anaconda3/envs/mri_gpu/lib/python3.10/site-packages/timm/models/efficientnet.py:545\u001b[0m, in \u001b[0;36mEfficientNet.forward_features\u001b[0;34m(self, x)\u001b[0m\n\u001b[1;32m    543\u001b[0m     x \u001b[38;5;241m=\u001b[39m checkpoint_seq(\u001b[38;5;28mself\u001b[39m\u001b[38;5;241m.\u001b[39mblocks, x, flatten\u001b[38;5;241m=\u001b[39m\u001b[38;5;28;01mTrue\u001b[39;00m)\n\u001b[1;32m    544\u001b[0m \u001b[38;5;28;01melse\u001b[39;00m:\n\u001b[0;32m--> 545\u001b[0m     x \u001b[38;5;241m=\u001b[39m \u001b[38;5;28;43mself\u001b[39;49m\u001b[38;5;241;43m.\u001b[39;49m\u001b[43mblocks\u001b[49m\u001b[43m(\u001b[49m\u001b[43mx\u001b[49m\u001b[43m)\u001b[49m\n\u001b[1;32m    546\u001b[0m x \u001b[38;5;241m=\u001b[39m \u001b[38;5;28mself\u001b[39m\u001b[38;5;241m.\u001b[39mconv_head(x)\n\u001b[1;32m    547\u001b[0m x \u001b[38;5;241m=\u001b[39m \u001b[38;5;28mself\u001b[39m\u001b[38;5;241m.\u001b[39mbn2(x)\n",
      "File \u001b[0;32m~/anaconda3/envs/mri_gpu/lib/python3.10/site-packages/torch/nn/modules/module.py:1190\u001b[0m, in \u001b[0;36mModule._call_impl\u001b[0;34m(self, *input, **kwargs)\u001b[0m\n\u001b[1;32m   1186\u001b[0m \u001b[38;5;66;03m# If we don't have any hooks, we want to skip the rest of the logic in\u001b[39;00m\n\u001b[1;32m   1187\u001b[0m \u001b[38;5;66;03m# this function, and just call forward.\u001b[39;00m\n\u001b[1;32m   1188\u001b[0m \u001b[38;5;28;01mif\u001b[39;00m \u001b[38;5;129;01mnot\u001b[39;00m (\u001b[38;5;28mself\u001b[39m\u001b[38;5;241m.\u001b[39m_backward_hooks \u001b[38;5;129;01mor\u001b[39;00m \u001b[38;5;28mself\u001b[39m\u001b[38;5;241m.\u001b[39m_forward_hooks \u001b[38;5;129;01mor\u001b[39;00m \u001b[38;5;28mself\u001b[39m\u001b[38;5;241m.\u001b[39m_forward_pre_hooks \u001b[38;5;129;01mor\u001b[39;00m _global_backward_hooks\n\u001b[1;32m   1189\u001b[0m         \u001b[38;5;129;01mor\u001b[39;00m _global_forward_hooks \u001b[38;5;129;01mor\u001b[39;00m _global_forward_pre_hooks):\n\u001b[0;32m-> 1190\u001b[0m     \u001b[38;5;28;01mreturn\u001b[39;00m \u001b[43mforward_call\u001b[49m\u001b[43m(\u001b[49m\u001b[38;5;241;43m*\u001b[39;49m\u001b[38;5;28;43minput\u001b[39;49m\u001b[43m,\u001b[49m\u001b[43m \u001b[49m\u001b[38;5;241;43m*\u001b[39;49m\u001b[38;5;241;43m*\u001b[39;49m\u001b[43mkwargs\u001b[49m\u001b[43m)\u001b[49m\n\u001b[1;32m   1191\u001b[0m \u001b[38;5;66;03m# Do not call functions when jit is used\u001b[39;00m\n\u001b[1;32m   1192\u001b[0m full_backward_hooks, non_full_backward_hooks \u001b[38;5;241m=\u001b[39m [], []\n",
      "File \u001b[0;32m~/anaconda3/envs/mri_gpu/lib/python3.10/site-packages/torch/nn/modules/container.py:204\u001b[0m, in \u001b[0;36mSequential.forward\u001b[0;34m(self, input)\u001b[0m\n\u001b[1;32m    202\u001b[0m \u001b[38;5;28;01mdef\u001b[39;00m \u001b[38;5;21mforward\u001b[39m(\u001b[38;5;28mself\u001b[39m, \u001b[38;5;28minput\u001b[39m):\n\u001b[1;32m    203\u001b[0m     \u001b[38;5;28;01mfor\u001b[39;00m module \u001b[38;5;129;01min\u001b[39;00m \u001b[38;5;28mself\u001b[39m:\n\u001b[0;32m--> 204\u001b[0m         \u001b[38;5;28minput\u001b[39m \u001b[38;5;241m=\u001b[39m \u001b[43mmodule\u001b[49m\u001b[43m(\u001b[49m\u001b[38;5;28;43minput\u001b[39;49m\u001b[43m)\u001b[49m\n\u001b[1;32m    205\u001b[0m     \u001b[38;5;28;01mreturn\u001b[39;00m \u001b[38;5;28minput\u001b[39m\n",
      "File \u001b[0;32m~/anaconda3/envs/mri_gpu/lib/python3.10/site-packages/torch/nn/modules/module.py:1190\u001b[0m, in \u001b[0;36mModule._call_impl\u001b[0;34m(self, *input, **kwargs)\u001b[0m\n\u001b[1;32m   1186\u001b[0m \u001b[38;5;66;03m# If we don't have any hooks, we want to skip the rest of the logic in\u001b[39;00m\n\u001b[1;32m   1187\u001b[0m \u001b[38;5;66;03m# this function, and just call forward.\u001b[39;00m\n\u001b[1;32m   1188\u001b[0m \u001b[38;5;28;01mif\u001b[39;00m \u001b[38;5;129;01mnot\u001b[39;00m (\u001b[38;5;28mself\u001b[39m\u001b[38;5;241m.\u001b[39m_backward_hooks \u001b[38;5;129;01mor\u001b[39;00m \u001b[38;5;28mself\u001b[39m\u001b[38;5;241m.\u001b[39m_forward_hooks \u001b[38;5;129;01mor\u001b[39;00m \u001b[38;5;28mself\u001b[39m\u001b[38;5;241m.\u001b[39m_forward_pre_hooks \u001b[38;5;129;01mor\u001b[39;00m _global_backward_hooks\n\u001b[1;32m   1189\u001b[0m         \u001b[38;5;129;01mor\u001b[39;00m _global_forward_hooks \u001b[38;5;129;01mor\u001b[39;00m _global_forward_pre_hooks):\n\u001b[0;32m-> 1190\u001b[0m     \u001b[38;5;28;01mreturn\u001b[39;00m \u001b[43mforward_call\u001b[49m\u001b[43m(\u001b[49m\u001b[38;5;241;43m*\u001b[39;49m\u001b[38;5;28;43minput\u001b[39;49m\u001b[43m,\u001b[49m\u001b[43m \u001b[49m\u001b[38;5;241;43m*\u001b[39;49m\u001b[38;5;241;43m*\u001b[39;49m\u001b[43mkwargs\u001b[49m\u001b[43m)\u001b[49m\n\u001b[1;32m   1191\u001b[0m \u001b[38;5;66;03m# Do not call functions when jit is used\u001b[39;00m\n\u001b[1;32m   1192\u001b[0m full_backward_hooks, non_full_backward_hooks \u001b[38;5;241m=\u001b[39m [], []\n",
      "File \u001b[0;32m~/anaconda3/envs/mri_gpu/lib/python3.10/site-packages/torch/nn/modules/container.py:204\u001b[0m, in \u001b[0;36mSequential.forward\u001b[0;34m(self, input)\u001b[0m\n\u001b[1;32m    202\u001b[0m \u001b[38;5;28;01mdef\u001b[39;00m \u001b[38;5;21mforward\u001b[39m(\u001b[38;5;28mself\u001b[39m, \u001b[38;5;28minput\u001b[39m):\n\u001b[1;32m    203\u001b[0m     \u001b[38;5;28;01mfor\u001b[39;00m module \u001b[38;5;129;01min\u001b[39;00m \u001b[38;5;28mself\u001b[39m:\n\u001b[0;32m--> 204\u001b[0m         \u001b[38;5;28minput\u001b[39m \u001b[38;5;241m=\u001b[39m \u001b[43mmodule\u001b[49m\u001b[43m(\u001b[49m\u001b[38;5;28;43minput\u001b[39;49m\u001b[43m)\u001b[49m\n\u001b[1;32m    205\u001b[0m     \u001b[38;5;28;01mreturn\u001b[39;00m \u001b[38;5;28minput\u001b[39m\n",
      "File \u001b[0;32m~/anaconda3/envs/mri_gpu/lib/python3.10/site-packages/torch/nn/modules/module.py:1190\u001b[0m, in \u001b[0;36mModule._call_impl\u001b[0;34m(self, *input, **kwargs)\u001b[0m\n\u001b[1;32m   1186\u001b[0m \u001b[38;5;66;03m# If we don't have any hooks, we want to skip the rest of the logic in\u001b[39;00m\n\u001b[1;32m   1187\u001b[0m \u001b[38;5;66;03m# this function, and just call forward.\u001b[39;00m\n\u001b[1;32m   1188\u001b[0m \u001b[38;5;28;01mif\u001b[39;00m \u001b[38;5;129;01mnot\u001b[39;00m (\u001b[38;5;28mself\u001b[39m\u001b[38;5;241m.\u001b[39m_backward_hooks \u001b[38;5;129;01mor\u001b[39;00m \u001b[38;5;28mself\u001b[39m\u001b[38;5;241m.\u001b[39m_forward_hooks \u001b[38;5;129;01mor\u001b[39;00m \u001b[38;5;28mself\u001b[39m\u001b[38;5;241m.\u001b[39m_forward_pre_hooks \u001b[38;5;129;01mor\u001b[39;00m _global_backward_hooks\n\u001b[1;32m   1189\u001b[0m         \u001b[38;5;129;01mor\u001b[39;00m _global_forward_hooks \u001b[38;5;129;01mor\u001b[39;00m _global_forward_pre_hooks):\n\u001b[0;32m-> 1190\u001b[0m     \u001b[38;5;28;01mreturn\u001b[39;00m \u001b[43mforward_call\u001b[49m\u001b[43m(\u001b[49m\u001b[38;5;241;43m*\u001b[39;49m\u001b[38;5;28;43minput\u001b[39;49m\u001b[43m,\u001b[49m\u001b[43m \u001b[49m\u001b[38;5;241;43m*\u001b[39;49m\u001b[38;5;241;43m*\u001b[39;49m\u001b[43mkwargs\u001b[49m\u001b[43m)\u001b[49m\n\u001b[1;32m   1191\u001b[0m \u001b[38;5;66;03m# Do not call functions when jit is used\u001b[39;00m\n\u001b[1;32m   1192\u001b[0m full_backward_hooks, non_full_backward_hooks \u001b[38;5;241m=\u001b[39m [], []\n",
      "File \u001b[0;32m~/anaconda3/envs/mri_gpu/lib/python3.10/site-packages/timm/models/efficientnet_blocks.py:275\u001b[0m, in \u001b[0;36mEdgeResidual.forward\u001b[0;34m(self, x)\u001b[0m\n\u001b[1;32m    273\u001b[0m shortcut \u001b[38;5;241m=\u001b[39m x\n\u001b[1;32m    274\u001b[0m x \u001b[38;5;241m=\u001b[39m \u001b[38;5;28mself\u001b[39m\u001b[38;5;241m.\u001b[39mconv_exp(x)\n\u001b[0;32m--> 275\u001b[0m x \u001b[38;5;241m=\u001b[39m \u001b[38;5;28;43mself\u001b[39;49m\u001b[38;5;241;43m.\u001b[39;49m\u001b[43mbn1\u001b[49m\u001b[43m(\u001b[49m\u001b[43mx\u001b[49m\u001b[43m)\u001b[49m\n\u001b[1;32m    276\u001b[0m x \u001b[38;5;241m=\u001b[39m \u001b[38;5;28mself\u001b[39m\u001b[38;5;241m.\u001b[39mse(x)\n\u001b[1;32m    277\u001b[0m x \u001b[38;5;241m=\u001b[39m \u001b[38;5;28mself\u001b[39m\u001b[38;5;241m.\u001b[39mconv_pwl(x)\n",
      "File \u001b[0;32m~/anaconda3/envs/mri_gpu/lib/python3.10/site-packages/torch/nn/modules/module.py:1190\u001b[0m, in \u001b[0;36mModule._call_impl\u001b[0;34m(self, *input, **kwargs)\u001b[0m\n\u001b[1;32m   1186\u001b[0m \u001b[38;5;66;03m# If we don't have any hooks, we want to skip the rest of the logic in\u001b[39;00m\n\u001b[1;32m   1187\u001b[0m \u001b[38;5;66;03m# this function, and just call forward.\u001b[39;00m\n\u001b[1;32m   1188\u001b[0m \u001b[38;5;28;01mif\u001b[39;00m \u001b[38;5;129;01mnot\u001b[39;00m (\u001b[38;5;28mself\u001b[39m\u001b[38;5;241m.\u001b[39m_backward_hooks \u001b[38;5;129;01mor\u001b[39;00m \u001b[38;5;28mself\u001b[39m\u001b[38;5;241m.\u001b[39m_forward_hooks \u001b[38;5;129;01mor\u001b[39;00m \u001b[38;5;28mself\u001b[39m\u001b[38;5;241m.\u001b[39m_forward_pre_hooks \u001b[38;5;129;01mor\u001b[39;00m _global_backward_hooks\n\u001b[1;32m   1189\u001b[0m         \u001b[38;5;129;01mor\u001b[39;00m _global_forward_hooks \u001b[38;5;129;01mor\u001b[39;00m _global_forward_pre_hooks):\n\u001b[0;32m-> 1190\u001b[0m     \u001b[38;5;28;01mreturn\u001b[39;00m \u001b[43mforward_call\u001b[49m\u001b[43m(\u001b[49m\u001b[38;5;241;43m*\u001b[39;49m\u001b[38;5;28;43minput\u001b[39;49m\u001b[43m,\u001b[49m\u001b[43m \u001b[49m\u001b[38;5;241;43m*\u001b[39;49m\u001b[38;5;241;43m*\u001b[39;49m\u001b[43mkwargs\u001b[49m\u001b[43m)\u001b[49m\n\u001b[1;32m   1191\u001b[0m \u001b[38;5;66;03m# Do not call functions when jit is used\u001b[39;00m\n\u001b[1;32m   1192\u001b[0m full_backward_hooks, non_full_backward_hooks \u001b[38;5;241m=\u001b[39m [], []\n",
      "File \u001b[0;32m~/anaconda3/envs/mri_gpu/lib/python3.10/site-packages/timm/models/layers/norm_act.py:100\u001b[0m, in \u001b[0;36mBatchNormAct2d.forward\u001b[0;34m(self, x)\u001b[0m\n\u001b[1;32m     93\u001b[0m     bn_training \u001b[38;5;241m=\u001b[39m (\u001b[38;5;28mself\u001b[39m\u001b[38;5;241m.\u001b[39mrunning_mean \u001b[38;5;129;01mis\u001b[39;00m \u001b[38;5;28;01mNone\u001b[39;00m) \u001b[38;5;129;01mand\u001b[39;00m (\u001b[38;5;28mself\u001b[39m\u001b[38;5;241m.\u001b[39mrunning_var \u001b[38;5;129;01mis\u001b[39;00m \u001b[38;5;28;01mNone\u001b[39;00m)\n\u001b[1;32m     95\u001b[0m \u001b[38;5;124mr\u001b[39m\u001b[38;5;124;03m\"\"\"\u001b[39;00m\n\u001b[1;32m     96\u001b[0m \u001b[38;5;124;03mBuffers are only updated if they are to be tracked and we are in training mode. Thus they only need to be\u001b[39;00m\n\u001b[1;32m     97\u001b[0m \u001b[38;5;124;03mpassed when the update should occur (i.e. in training mode when they are tracked), or when buffer stats are\u001b[39;00m\n\u001b[1;32m     98\u001b[0m \u001b[38;5;124;03mused for normalization (i.e. in eval mode when buffers are not None).\u001b[39;00m\n\u001b[1;32m     99\u001b[0m \u001b[38;5;124;03m\"\"\"\u001b[39;00m\n\u001b[0;32m--> 100\u001b[0m x \u001b[38;5;241m=\u001b[39m \u001b[43mF\u001b[49m\u001b[38;5;241;43m.\u001b[39;49m\u001b[43mbatch_norm\u001b[49m\u001b[43m(\u001b[49m\n\u001b[1;32m    101\u001b[0m \u001b[43m    \u001b[49m\u001b[43mx\u001b[49m\u001b[43m,\u001b[49m\n\u001b[1;32m    102\u001b[0m \u001b[43m    \u001b[49m\u001b[38;5;66;43;03m# If buffers are not to be tracked, ensure that they won't be updated\u001b[39;49;00m\n\u001b[1;32m    103\u001b[0m \u001b[43m    \u001b[49m\u001b[38;5;28;43mself\u001b[39;49m\u001b[38;5;241;43m.\u001b[39;49m\u001b[43mrunning_mean\u001b[49m\u001b[43m \u001b[49m\u001b[38;5;28;43;01mif\u001b[39;49;00m\u001b[43m \u001b[49m\u001b[38;5;129;43;01mnot\u001b[39;49;00m\u001b[43m \u001b[49m\u001b[38;5;28;43mself\u001b[39;49m\u001b[38;5;241;43m.\u001b[39;49m\u001b[43mtraining\u001b[49m\u001b[43m \u001b[49m\u001b[38;5;129;43;01mor\u001b[39;49;00m\u001b[43m \u001b[49m\u001b[38;5;28;43mself\u001b[39;49m\u001b[38;5;241;43m.\u001b[39;49m\u001b[43mtrack_running_stats\u001b[49m\u001b[43m \u001b[49m\u001b[38;5;28;43;01melse\u001b[39;49;00m\u001b[43m \u001b[49m\u001b[38;5;28;43;01mNone\u001b[39;49;00m\u001b[43m,\u001b[49m\n\u001b[1;32m    104\u001b[0m \u001b[43m    \u001b[49m\u001b[38;5;28;43mself\u001b[39;49m\u001b[38;5;241;43m.\u001b[39;49m\u001b[43mrunning_var\u001b[49m\u001b[43m \u001b[49m\u001b[38;5;28;43;01mif\u001b[39;49;00m\u001b[43m \u001b[49m\u001b[38;5;129;43;01mnot\u001b[39;49;00m\u001b[43m \u001b[49m\u001b[38;5;28;43mself\u001b[39;49m\u001b[38;5;241;43m.\u001b[39;49m\u001b[43mtraining\u001b[49m\u001b[43m \u001b[49m\u001b[38;5;129;43;01mor\u001b[39;49;00m\u001b[43m \u001b[49m\u001b[38;5;28;43mself\u001b[39;49m\u001b[38;5;241;43m.\u001b[39;49m\u001b[43mtrack_running_stats\u001b[49m\u001b[43m \u001b[49m\u001b[38;5;28;43;01melse\u001b[39;49;00m\u001b[43m \u001b[49m\u001b[38;5;28;43;01mNone\u001b[39;49;00m\u001b[43m,\u001b[49m\n\u001b[1;32m    105\u001b[0m \u001b[43m    \u001b[49m\u001b[38;5;28;43mself\u001b[39;49m\u001b[38;5;241;43m.\u001b[39;49m\u001b[43mweight\u001b[49m\u001b[43m,\u001b[49m\n\u001b[1;32m    106\u001b[0m \u001b[43m    \u001b[49m\u001b[38;5;28;43mself\u001b[39;49m\u001b[38;5;241;43m.\u001b[39;49m\u001b[43mbias\u001b[49m\u001b[43m,\u001b[49m\n\u001b[1;32m    107\u001b[0m \u001b[43m    \u001b[49m\u001b[43mbn_training\u001b[49m\u001b[43m,\u001b[49m\n\u001b[1;32m    108\u001b[0m \u001b[43m    \u001b[49m\u001b[43mexponential_average_factor\u001b[49m\u001b[43m,\u001b[49m\n\u001b[1;32m    109\u001b[0m \u001b[43m    \u001b[49m\u001b[38;5;28;43mself\u001b[39;49m\u001b[38;5;241;43m.\u001b[39;49m\u001b[43meps\u001b[49m\u001b[43m,\u001b[49m\n\u001b[1;32m    110\u001b[0m \u001b[43m\u001b[49m\u001b[43m)\u001b[49m\n\u001b[1;32m    111\u001b[0m x \u001b[38;5;241m=\u001b[39m \u001b[38;5;28mself\u001b[39m\u001b[38;5;241m.\u001b[39mdrop(x)\n\u001b[1;32m    112\u001b[0m x \u001b[38;5;241m=\u001b[39m \u001b[38;5;28mself\u001b[39m\u001b[38;5;241m.\u001b[39mact(x)\n",
      "File \u001b[0;32m~/anaconda3/envs/mri_gpu/lib/python3.10/site-packages/torch/nn/functional.py:2450\u001b[0m, in \u001b[0;36mbatch_norm\u001b[0;34m(input, running_mean, running_var, weight, bias, training, momentum, eps)\u001b[0m\n\u001b[1;32m   2447\u001b[0m \u001b[38;5;28;01mif\u001b[39;00m training:\n\u001b[1;32m   2448\u001b[0m     _verify_batch_size(\u001b[38;5;28minput\u001b[39m\u001b[38;5;241m.\u001b[39msize())\n\u001b[0;32m-> 2450\u001b[0m \u001b[38;5;28;01mreturn\u001b[39;00m \u001b[43mtorch\u001b[49m\u001b[38;5;241;43m.\u001b[39;49m\u001b[43mbatch_norm\u001b[49m\u001b[43m(\u001b[49m\n\u001b[1;32m   2451\u001b[0m \u001b[43m    \u001b[49m\u001b[38;5;28;43minput\u001b[39;49m\u001b[43m,\u001b[49m\u001b[43m \u001b[49m\u001b[43mweight\u001b[49m\u001b[43m,\u001b[49m\u001b[43m \u001b[49m\u001b[43mbias\u001b[49m\u001b[43m,\u001b[49m\u001b[43m \u001b[49m\u001b[43mrunning_mean\u001b[49m\u001b[43m,\u001b[49m\u001b[43m \u001b[49m\u001b[43mrunning_var\u001b[49m\u001b[43m,\u001b[49m\u001b[43m \u001b[49m\u001b[43mtraining\u001b[49m\u001b[43m,\u001b[49m\u001b[43m \u001b[49m\u001b[43mmomentum\u001b[49m\u001b[43m,\u001b[49m\u001b[43m \u001b[49m\u001b[43meps\u001b[49m\u001b[43m,\u001b[49m\u001b[43m \u001b[49m\u001b[43mtorch\u001b[49m\u001b[38;5;241;43m.\u001b[39;49m\u001b[43mbackends\u001b[49m\u001b[38;5;241;43m.\u001b[39;49m\u001b[43mcudnn\u001b[49m\u001b[38;5;241;43m.\u001b[39;49m\u001b[43menabled\u001b[49m\n\u001b[1;32m   2452\u001b[0m \u001b[43m\u001b[49m\u001b[43m)\u001b[49m\n",
      "\u001b[0;31mKeyboardInterrupt\u001b[0m: "
     ]
    }
   ],
   "source": [
    "confusion_mat = np.zeros((3, 3), dtype=int)\n",
    "model = model.to('cpu')\n",
    "\n",
    "for i, batch in tqdm(enumerate(val_loader)):\n",
    "    classes, imgs = batch\n",
    "    imgs = imgs.to('cpu')\n",
    "    res = model.predict(imgs)\n",
    "    \n",
    "    for i in range(classes.shape[0]):\n",
    "        confusion_mat[classes[i], res[i]] += 1"
   ]
  },
  {
   "cell_type": "code",
   "execution_count": 122,
   "id": "de7ea7c7-cc9e-463b-8a8b-0a4291f39561",
   "metadata": {},
   "outputs": [
    {
     "data": {
      "text/plain": [
       "array([[498,  53,   3],\n",
       "       [ 64, 361, 109],\n",
       "       [  0,   0,   0]])"
      ]
     },
     "execution_count": 122,
     "metadata": {},
     "output_type": "execute_result"
    }
   ],
   "source": [
    "confusion_mat"
   ]
  },
  {
   "cell_type": "code",
   "execution_count": 123,
   "id": "a6d9a953-96cf-4e72-8832-1379f61a4a64",
   "metadata": {},
   "outputs": [],
   "source": [
    "def precision(confusionMat):\n",
    "  # Methods for precision calculation\n",
    "\n",
    "    # Get the number of classes\n",
    "    nbClasses = confusionMat.shape[0]\n",
    "\n",
    "    # Compute the precision averaged over all classes\n",
    "    averagePrecision = 0\n",
    "\n",
    "    for idx in range(nbClasses):\n",
    "        averagePrecision += confusionMat[idx,idx]/np.sum(confusionMat[:,idx])\n",
    "\n",
    "    averagePrecision /= nbClasses\n",
    "\n",
    "    return averagePrecision\n",
    "\n",
    "\n",
    "def recall(confusionMat):\n",
    "  # Method for recall calculation\n",
    "\n",
    "    # Get the number of classes\n",
    "    nbClasses = confusionMat.shape[0]\n",
    "\n",
    "    # Compute the recall averaged over all classes\n",
    "    averageRecall = 0\n",
    "\n",
    "    for idx in range(nbClasses):\n",
    "        averageRecall += confusionMat[idx,idx]/np.sum(confusionMat[idx,:])\n",
    "\n",
    "    averageRecall /= nbClasses\n",
    "\n",
    "    return averageRecall"
   ]
  },
  {
   "cell_type": "code",
   "execution_count": 124,
   "id": "7c3b60c2-6698-4cb6-8678-321cacf26616",
   "metadata": {},
   "outputs": [
    {
     "name": "stderr",
     "output_type": "stream",
     "text": [
      "/tmp/ipykernel_2488156/82651831.py:28: RuntimeWarning: invalid value encountered in long_scalars\n",
      "  averageRecall += confusionMat[idx,idx]/np.sum(confusionMat[idx,:])\n"
     ]
    },
    {
     "data": {
      "text/plain": [
       "nan"
      ]
     },
     "execution_count": 124,
     "metadata": {},
     "output_type": "execute_result"
    }
   ],
   "source": [
    "recall_val = recall(confusion_mat)\n",
    "# Calculation of recall\n",
    "recall_val"
   ]
  },
  {
   "cell_type": "code",
   "execution_count": 125,
   "id": "cfa7add4-27ff-4349-b112-c8a66075dfa8",
   "metadata": {},
   "outputs": [
    {
     "data": {
      "text/plain": [
       "0.5860338909232612"
      ]
     },
     "execution_count": 125,
     "metadata": {},
     "output_type": "execute_result"
    }
   ],
   "source": [
    "precision_val = precision(confusion_mat)\n",
    "precision_val"
   ]
  },
  {
   "cell_type": "code",
   "execution_count": 126,
   "id": "def1fa73-31a9-4365-926e-4f686cb8073f",
   "metadata": {},
   "outputs": [
    {
     "data": {
      "text/plain": [
       "0.7895220588235294"
      ]
     },
     "execution_count": 126,
     "metadata": {},
     "output_type": "execute_result"
    }
   ],
   "source": [
    "accuracy = confusion_mat.trace()/confusion_mat.sum()\n",
    "# Accuracy calculation through sum of the accurate results and dividing them by total number of predictions\n",
    "accuracy"
   ]
  },
  {
   "cell_type": "code",
   "execution_count": 127,
   "id": "24ba9305-5636-4abb-afe9-36900709938a",
   "metadata": {},
   "outputs": [
    {
     "data": {
      "text/plain": [
       "nan"
      ]
     },
     "execution_count": 127,
     "metadata": {},
     "output_type": "execute_result"
    }
   ],
   "source": [
    "f1_score = 2*(precision_val*recall_val)/(precision_val+recall_val) #Metric calculation\n",
    "f1_score"
   ]
  },
  {
   "cell_type": "code",
   "execution_count": 128,
   "id": "770aef29-933d-4774-a85b-99333115de0a",
   "metadata": {},
   "outputs": [
    {
     "data": {
      "text/plain": [
       "0.8989169675090253"
      ]
     },
     "execution_count": 128,
     "metadata": {},
     "output_type": "execute_result"
    }
   ],
   "source": [
    "#Accuracy calculatuion for bad images\n",
    "confusion_mat[0,0]/confusion_mat[0,:].sum()"
   ]
  },
  {
   "cell_type": "code",
   "execution_count": 129,
   "id": "df511b8d-8052-4d16-bc2c-2b8f670088e6",
   "metadata": {},
   "outputs": [
    {
     "name": "stderr",
     "output_type": "stream",
     "text": [
      "/tmp/ipykernel_2488156/4251798279.py:2: RuntimeWarning: invalid value encountered in long_scalars\n",
      "  confusion_mat[2,2]/confusion_mat[2,:].sum()\n"
     ]
    },
    {
     "data": {
      "text/plain": [
       "nan"
      ]
     },
     "execution_count": 129,
     "metadata": {},
     "output_type": "execute_result"
    }
   ],
   "source": [
    "#Accuracy calculatuion for good images\n",
    "confusion_mat[2,2]/confusion_mat[2,:].sum()"
   ]
  },
  {
   "cell_type": "code",
   "execution_count": null,
   "id": "d6c5c69e-597e-465f-a2ef-d892a8d02786",
   "metadata": {},
   "outputs": [],
   "source": []
  }
 ],
 "metadata": {
  "accelerator": "GPU",
  "colab": {
   "provenance": []
  },
  "gpuClass": "standard",
  "kernelspec": {
   "display_name": "Python [conda env:mri_gpu] *",
   "language": "python",
   "name": "conda-env-mri_gpu-py"
  },
  "language_info": {
   "codemirror_mode": {
    "name": "ipython",
    "version": 3
   },
   "file_extension": ".py",
   "mimetype": "text/x-python",
   "name": "python",
   "nbconvert_exporter": "python",
   "pygments_lexer": "ipython3",
   "version": "3.10.6"
  },
  "widgets": {
   "application/vnd.jupyter.widget-state+json": {
    "0d1198dc6fad45c38837918416b1a74a": {
     "model_module": "@jupyter-widgets/controls",
     "model_module_version": "1.5.0",
     "model_name": "DescriptionStyleModel",
     "state": {
      "_model_module": "@jupyter-widgets/controls",
      "_model_module_version": "1.5.0",
      "_model_name": "DescriptionStyleModel",
      "_view_count": null,
      "_view_module": "@jupyter-widgets/base",
      "_view_module_version": "1.2.0",
      "_view_name": "StyleView",
      "description_width": ""
     }
    },
    "115336805748496fb96e856e2dc3188c": {
     "model_module": "@jupyter-widgets/base",
     "model_module_version": "1.2.0",
     "model_name": "LayoutModel",
     "state": {
      "_model_module": "@jupyter-widgets/base",
      "_model_module_version": "1.2.0",
      "_model_name": "LayoutModel",
      "_view_count": null,
      "_view_module": "@jupyter-widgets/base",
      "_view_module_version": "1.2.0",
      "_view_name": "LayoutView",
      "align_content": null,
      "align_items": null,
      "align_self": null,
      "border": null,
      "bottom": null,
      "display": null,
      "flex": null,
      "flex_flow": null,
      "grid_area": null,
      "grid_auto_columns": null,
      "grid_auto_flow": null,
      "grid_auto_rows": null,
      "grid_column": null,
      "grid_gap": null,
      "grid_row": null,
      "grid_template_areas": null,
      "grid_template_columns": null,
      "grid_template_rows": null,
      "height": null,
      "justify_content": null,
      "justify_items": null,
      "left": null,
      "margin": null,
      "max_height": null,
      "max_width": null,
      "min_height": null,
      "min_width": null,
      "object_fit": null,
      "object_position": null,
      "order": null,
      "overflow": null,
      "overflow_x": null,
      "overflow_y": null,
      "padding": null,
      "right": null,
      "top": null,
      "visibility": null,
      "width": null
     }
    },
    "20d01ef924274818951a05888c582c7e": {
     "model_module": "@jupyter-widgets/controls",
     "model_module_version": "1.5.0",
     "model_name": "DescriptionStyleModel",
     "state": {
      "_model_module": "@jupyter-widgets/controls",
      "_model_module_version": "1.5.0",
      "_model_name": "DescriptionStyleModel",
      "_view_count": null,
      "_view_module": "@jupyter-widgets/base",
      "_view_module_version": "1.2.0",
      "_view_name": "StyleView",
      "description_width": ""
     }
    },
    "2216328177984ad0add9fe87bd805f3f": {
     "model_module": "@jupyter-widgets/base",
     "model_module_version": "1.2.0",
     "model_name": "LayoutModel",
     "state": {
      "_model_module": "@jupyter-widgets/base",
      "_model_module_version": "1.2.0",
      "_model_name": "LayoutModel",
      "_view_count": null,
      "_view_module": "@jupyter-widgets/base",
      "_view_module_version": "1.2.0",
      "_view_name": "LayoutView",
      "align_content": null,
      "align_items": null,
      "align_self": null,
      "border": null,
      "bottom": null,
      "display": "inline-flex",
      "flex": null,
      "flex_flow": "row wrap",
      "grid_area": null,
      "grid_auto_columns": null,
      "grid_auto_flow": null,
      "grid_auto_rows": null,
      "grid_column": null,
      "grid_gap": null,
      "grid_row": null,
      "grid_template_areas": null,
      "grid_template_columns": null,
      "grid_template_rows": null,
      "height": null,
      "justify_content": null,
      "justify_items": null,
      "left": null,
      "margin": null,
      "max_height": null,
      "max_width": null,
      "min_height": null,
      "min_width": null,
      "object_fit": null,
      "object_position": null,
      "order": null,
      "overflow": null,
      "overflow_x": null,
      "overflow_y": null,
      "padding": null,
      "right": null,
      "top": null,
      "visibility": "hidden",
      "width": "100%"
     }
    },
    "2ce9f3de3e414ea4b908f380d1f7cec9": {
     "model_module": "@jupyter-widgets/base",
     "model_module_version": "1.2.0",
     "model_name": "LayoutModel",
     "state": {
      "_model_module": "@jupyter-widgets/base",
      "_model_module_version": "1.2.0",
      "_model_name": "LayoutModel",
      "_view_count": null,
      "_view_module": "@jupyter-widgets/base",
      "_view_module_version": "1.2.0",
      "_view_name": "LayoutView",
      "align_content": null,
      "align_items": null,
      "align_self": null,
      "border": null,
      "bottom": null,
      "display": null,
      "flex": "2",
      "flex_flow": null,
      "grid_area": null,
      "grid_auto_columns": null,
      "grid_auto_flow": null,
      "grid_auto_rows": null,
      "grid_column": null,
      "grid_gap": null,
      "grid_row": null,
      "grid_template_areas": null,
      "grid_template_columns": null,
      "grid_template_rows": null,
      "height": null,
      "justify_content": null,
      "justify_items": null,
      "left": null,
      "margin": null,
      "max_height": null,
      "max_width": null,
      "min_height": null,
      "min_width": null,
      "object_fit": null,
      "object_position": null,
      "order": null,
      "overflow": null,
      "overflow_x": null,
      "overflow_y": null,
      "padding": null,
      "right": null,
      "top": null,
      "visibility": null,
      "width": null
     }
    },
    "2d1e6bcdf56c409890442a7efbd67728": {
     "model_module": "@jupyter-widgets/controls",
     "model_module_version": "1.5.0",
     "model_name": "ProgressStyleModel",
     "state": {
      "_model_module": "@jupyter-widgets/controls",
      "_model_module_version": "1.5.0",
      "_model_name": "ProgressStyleModel",
      "_view_count": null,
      "_view_module": "@jupyter-widgets/base",
      "_view_module_version": "1.2.0",
      "_view_name": "StyleView",
      "bar_color": null,
      "description_width": ""
     }
    },
    "2f915dff2e78451a8eda5b0cdd974ca4": {
     "model_module": "@jupyter-widgets/controls",
     "model_module_version": "1.5.0",
     "model_name": "HTMLModel",
     "state": {
      "_dom_classes": [],
      "_model_module": "@jupyter-widgets/controls",
      "_model_module_version": "1.5.0",
      "_model_name": "HTMLModel",
      "_view_count": null,
      "_view_module": "@jupyter-widgets/controls",
      "_view_module_version": "1.5.0",
      "_view_name": "HTMLView",
      "description": "",
      "description_tooltip": null,
      "layout": "IPY_MODEL_ab962eb41e224e99a11aa17b786b3f53",
      "placeholder": "​",
      "style": "IPY_MODEL_91bff599a8384e1aac3a7ca2afdd42a6",
      "value": " 2/2 [00:04&lt;00:00,  2.39s/it]"
     }
    },
    "35dc1845b46944269c02d23ab7a98069": {
     "model_module": "@jupyter-widgets/controls",
     "model_module_version": "1.5.0",
     "model_name": "FloatProgressModel",
     "state": {
      "_dom_classes": [],
      "_model_module": "@jupyter-widgets/controls",
      "_model_module_version": "1.5.0",
      "_model_name": "FloatProgressModel",
      "_view_count": null,
      "_view_module": "@jupyter-widgets/controls",
      "_view_module_version": "1.5.0",
      "_view_name": "ProgressView",
      "bar_style": "",
      "description": "",
      "description_tooltip": null,
      "layout": "IPY_MODEL_2ce9f3de3e414ea4b908f380d1f7cec9",
      "max": 2,
      "min": 0,
      "orientation": "horizontal",
      "style": "IPY_MODEL_c52014d3baf740bf8abc6d293ec76a0f",
      "value": 2
     }
    },
    "4338c85b2a224c1499fd2f360c84e5cb": {
     "model_module": "@jupyter-widgets/base",
     "model_module_version": "1.2.0",
     "model_name": "LayoutModel",
     "state": {
      "_model_module": "@jupyter-widgets/base",
      "_model_module_version": "1.2.0",
      "_model_name": "LayoutModel",
      "_view_count": null,
      "_view_module": "@jupyter-widgets/base",
      "_view_module_version": "1.2.0",
      "_view_name": "LayoutView",
      "align_content": null,
      "align_items": null,
      "align_self": null,
      "border": null,
      "bottom": null,
      "display": null,
      "flex": null,
      "flex_flow": null,
      "grid_area": null,
      "grid_auto_columns": null,
      "grid_auto_flow": null,
      "grid_auto_rows": null,
      "grid_column": null,
      "grid_gap": null,
      "grid_row": null,
      "grid_template_areas": null,
      "grid_template_columns": null,
      "grid_template_rows": null,
      "height": null,
      "justify_content": null,
      "justify_items": null,
      "left": null,
      "margin": null,
      "max_height": null,
      "max_width": null,
      "min_height": null,
      "min_width": null,
      "object_fit": null,
      "object_position": null,
      "order": null,
      "overflow": null,
      "overflow_x": null,
      "overflow_y": null,
      "padding": null,
      "right": null,
      "top": null,
      "visibility": null,
      "width": null
     }
    },
    "4362cf691be14b1490a93c6441db7366": {
     "model_module": "@jupyter-widgets/controls",
     "model_module_version": "1.5.0",
     "model_name": "HTMLModel",
     "state": {
      "_dom_classes": [],
      "_model_module": "@jupyter-widgets/controls",
      "_model_module_version": "1.5.0",
      "_model_name": "HTMLModel",
      "_view_count": null,
      "_view_module": "@jupyter-widgets/controls",
      "_view_module_version": "1.5.0",
      "_view_name": "HTMLView",
      "description": "",
      "description_tooltip": null,
      "layout": "IPY_MODEL_115336805748496fb96e856e2dc3188c",
      "placeholder": "​",
      "style": "IPY_MODEL_0d1198dc6fad45c38837918416b1a74a",
      "value": "Sanity Checking DataLoader 0: 100%"
     }
    },
    "444792adc43b4c21bbe1615abeaadc79": {
     "model_module": "@jupyter-widgets/base",
     "model_module_version": "1.2.0",
     "model_name": "LayoutModel",
     "state": {
      "_model_module": "@jupyter-widgets/base",
      "_model_module_version": "1.2.0",
      "_model_name": "LayoutModel",
      "_view_count": null,
      "_view_module": "@jupyter-widgets/base",
      "_view_module_version": "1.2.0",
      "_view_name": "LayoutView",
      "align_content": null,
      "align_items": null,
      "align_self": null,
      "border": null,
      "bottom": null,
      "display": "inline-flex",
      "flex": null,
      "flex_flow": "row wrap",
      "grid_area": null,
      "grid_auto_columns": null,
      "grid_auto_flow": null,
      "grid_auto_rows": null,
      "grid_column": null,
      "grid_gap": null,
      "grid_row": null,
      "grid_template_areas": null,
      "grid_template_columns": null,
      "grid_template_rows": null,
      "height": null,
      "justify_content": null,
      "justify_items": null,
      "left": null,
      "margin": null,
      "max_height": null,
      "max_width": null,
      "min_height": null,
      "min_width": null,
      "object_fit": null,
      "object_position": null,
      "order": null,
      "overflow": null,
      "overflow_x": null,
      "overflow_y": null,
      "padding": null,
      "right": null,
      "top": null,
      "visibility": null,
      "width": "100%"
     }
    },
    "57066c4596434ca6a264cea47b081994": {
     "model_module": "@jupyter-widgets/controls",
     "model_module_version": "1.5.0",
     "model_name": "DescriptionStyleModel",
     "state": {
      "_model_module": "@jupyter-widgets/controls",
      "_model_module_version": "1.5.0",
      "_model_name": "DescriptionStyleModel",
      "_view_count": null,
      "_view_module": "@jupyter-widgets/base",
      "_view_module_version": "1.2.0",
      "_view_name": "StyleView",
      "description_width": ""
     }
    },
    "7e073151707c48c0a7efcba939ba2607": {
     "model_module": "@jupyter-widgets/controls",
     "model_module_version": "1.5.0",
     "model_name": "FloatProgressModel",
     "state": {
      "_dom_classes": [],
      "_model_module": "@jupyter-widgets/controls",
      "_model_module_version": "1.5.0",
      "_model_name": "FloatProgressModel",
      "_view_count": null,
      "_view_module": "@jupyter-widgets/controls",
      "_view_module_version": "1.5.0",
      "_view_name": "ProgressView",
      "bar_style": "",
      "description": "",
      "description_tooltip": null,
      "layout": "IPY_MODEL_a694a34518b844c2a0a21de63f69c76a",
      "max": 1799,
      "min": 0,
      "orientation": "horizontal",
      "style": "IPY_MODEL_2d1e6bcdf56c409890442a7efbd67728",
      "value": 8
     }
    },
    "7f8f7b34dfa3457cbdea68ef1d9a2f02": {
     "model_module": "@jupyter-widgets/controls",
     "model_module_version": "1.5.0",
     "model_name": "HTMLModel",
     "state": {
      "_dom_classes": [],
      "_model_module": "@jupyter-widgets/controls",
      "_model_module_version": "1.5.0",
      "_model_name": "HTMLModel",
      "_view_count": null,
      "_view_module": "@jupyter-widgets/controls",
      "_view_module_version": "1.5.0",
      "_view_name": "HTMLView",
      "description": "",
      "description_tooltip": null,
      "layout": "IPY_MODEL_4338c85b2a224c1499fd2f360c84e5cb",
      "placeholder": "​",
      "style": "IPY_MODEL_20d01ef924274818951a05888c582c7e",
      "value": "Epoch 0:   0%"
     }
    },
    "91bff599a8384e1aac3a7ca2afdd42a6": {
     "model_module": "@jupyter-widgets/controls",
     "model_module_version": "1.5.0",
     "model_name": "DescriptionStyleModel",
     "state": {
      "_model_module": "@jupyter-widgets/controls",
      "_model_module_version": "1.5.0",
      "_model_name": "DescriptionStyleModel",
      "_view_count": null,
      "_view_module": "@jupyter-widgets/base",
      "_view_module_version": "1.2.0",
      "_view_name": "StyleView",
      "description_width": ""
     }
    },
    "944f421589c34b188877893b3d2a998e": {
     "model_module": "@jupyter-widgets/controls",
     "model_module_version": "1.5.0",
     "model_name": "HBoxModel",
     "state": {
      "_dom_classes": [],
      "_model_module": "@jupyter-widgets/controls",
      "_model_module_version": "1.5.0",
      "_model_name": "HBoxModel",
      "_view_count": null,
      "_view_module": "@jupyter-widgets/controls",
      "_view_module_version": "1.5.0",
      "_view_name": "HBoxView",
      "box_style": "",
      "children": [
       "IPY_MODEL_4362cf691be14b1490a93c6441db7366",
       "IPY_MODEL_35dc1845b46944269c02d23ab7a98069",
       "IPY_MODEL_2f915dff2e78451a8eda5b0cdd974ca4"
      ],
      "layout": "IPY_MODEL_2216328177984ad0add9fe87bd805f3f"
     }
    },
    "9b0ecc3c886847fd80f35070649156ab": {
     "model_module": "@jupyter-widgets/base",
     "model_module_version": "1.2.0",
     "model_name": "LayoutModel",
     "state": {
      "_model_module": "@jupyter-widgets/base",
      "_model_module_version": "1.2.0",
      "_model_name": "LayoutModel",
      "_view_count": null,
      "_view_module": "@jupyter-widgets/base",
      "_view_module_version": "1.2.0",
      "_view_name": "LayoutView",
      "align_content": null,
      "align_items": null,
      "align_self": null,
      "border": null,
      "bottom": null,
      "display": null,
      "flex": null,
      "flex_flow": null,
      "grid_area": null,
      "grid_auto_columns": null,
      "grid_auto_flow": null,
      "grid_auto_rows": null,
      "grid_column": null,
      "grid_gap": null,
      "grid_row": null,
      "grid_template_areas": null,
      "grid_template_columns": null,
      "grid_template_rows": null,
      "height": null,
      "justify_content": null,
      "justify_items": null,
      "left": null,
      "margin": null,
      "max_height": null,
      "max_width": null,
      "min_height": null,
      "min_width": null,
      "object_fit": null,
      "object_position": null,
      "order": null,
      "overflow": null,
      "overflow_x": null,
      "overflow_y": null,
      "padding": null,
      "right": null,
      "top": null,
      "visibility": null,
      "width": null
     }
    },
    "a694a34518b844c2a0a21de63f69c76a": {
     "model_module": "@jupyter-widgets/base",
     "model_module_version": "1.2.0",
     "model_name": "LayoutModel",
     "state": {
      "_model_module": "@jupyter-widgets/base",
      "_model_module_version": "1.2.0",
      "_model_name": "LayoutModel",
      "_view_count": null,
      "_view_module": "@jupyter-widgets/base",
      "_view_module_version": "1.2.0",
      "_view_name": "LayoutView",
      "align_content": null,
      "align_items": null,
      "align_self": null,
      "border": null,
      "bottom": null,
      "display": null,
      "flex": "2",
      "flex_flow": null,
      "grid_area": null,
      "grid_auto_columns": null,
      "grid_auto_flow": null,
      "grid_auto_rows": null,
      "grid_column": null,
      "grid_gap": null,
      "grid_row": null,
      "grid_template_areas": null,
      "grid_template_columns": null,
      "grid_template_rows": null,
      "height": null,
      "justify_content": null,
      "justify_items": null,
      "left": null,
      "margin": null,
      "max_height": null,
      "max_width": null,
      "min_height": null,
      "min_width": null,
      "object_fit": null,
      "object_position": null,
      "order": null,
      "overflow": null,
      "overflow_x": null,
      "overflow_y": null,
      "padding": null,
      "right": null,
      "top": null,
      "visibility": null,
      "width": null
     }
    },
    "ab962eb41e224e99a11aa17b786b3f53": {
     "model_module": "@jupyter-widgets/base",
     "model_module_version": "1.2.0",
     "model_name": "LayoutModel",
     "state": {
      "_model_module": "@jupyter-widgets/base",
      "_model_module_version": "1.2.0",
      "_model_name": "LayoutModel",
      "_view_count": null,
      "_view_module": "@jupyter-widgets/base",
      "_view_module_version": "1.2.0",
      "_view_name": "LayoutView",
      "align_content": null,
      "align_items": null,
      "align_self": null,
      "border": null,
      "bottom": null,
      "display": null,
      "flex": null,
      "flex_flow": null,
      "grid_area": null,
      "grid_auto_columns": null,
      "grid_auto_flow": null,
      "grid_auto_rows": null,
      "grid_column": null,
      "grid_gap": null,
      "grid_row": null,
      "grid_template_areas": null,
      "grid_template_columns": null,
      "grid_template_rows": null,
      "height": null,
      "justify_content": null,
      "justify_items": null,
      "left": null,
      "margin": null,
      "max_height": null,
      "max_width": null,
      "min_height": null,
      "min_width": null,
      "object_fit": null,
      "object_position": null,
      "order": null,
      "overflow": null,
      "overflow_x": null,
      "overflow_y": null,
      "padding": null,
      "right": null,
      "top": null,
      "visibility": null,
      "width": null
     }
    },
    "c52014d3baf740bf8abc6d293ec76a0f": {
     "model_module": "@jupyter-widgets/controls",
     "model_module_version": "1.5.0",
     "model_name": "ProgressStyleModel",
     "state": {
      "_model_module": "@jupyter-widgets/controls",
      "_model_module_version": "1.5.0",
      "_model_name": "ProgressStyleModel",
      "_view_count": null,
      "_view_module": "@jupyter-widgets/base",
      "_view_module_version": "1.2.0",
      "_view_name": "StyleView",
      "bar_color": null,
      "description_width": ""
     }
    },
    "d3e8897060154117a7fae42d0ce6f7d0": {
     "model_module": "@jupyter-widgets/controls",
     "model_module_version": "1.5.0",
     "model_name": "HTMLModel",
     "state": {
      "_dom_classes": [],
      "_model_module": "@jupyter-widgets/controls",
      "_model_module_version": "1.5.0",
      "_model_name": "HTMLModel",
      "_view_count": null,
      "_view_module": "@jupyter-widgets/controls",
      "_view_module_version": "1.5.0",
      "_view_name": "HTMLView",
      "description": "",
      "description_tooltip": null,
      "layout": "IPY_MODEL_9b0ecc3c886847fd80f35070649156ab",
      "placeholder": "​",
      "style": "IPY_MODEL_57066c4596434ca6a264cea47b081994",
      "value": " 8/1799 [00:37&lt;2:18:25,  4.64s/it, loss=1.1, v_num=4]"
     }
    },
    "e3a36920190e4a83aafcbc5ee7a9e9db": {
     "model_module": "@jupyter-widgets/controls",
     "model_module_version": "1.5.0",
     "model_name": "HBoxModel",
     "state": {
      "_dom_classes": [],
      "_model_module": "@jupyter-widgets/controls",
      "_model_module_version": "1.5.0",
      "_model_name": "HBoxModel",
      "_view_count": null,
      "_view_module": "@jupyter-widgets/controls",
      "_view_module_version": "1.5.0",
      "_view_name": "HBoxView",
      "box_style": "",
      "children": [
       "IPY_MODEL_7f8f7b34dfa3457cbdea68ef1d9a2f02",
       "IPY_MODEL_7e073151707c48c0a7efcba939ba2607",
       "IPY_MODEL_d3e8897060154117a7fae42d0ce6f7d0"
      ],
      "layout": "IPY_MODEL_444792adc43b4c21bbe1615abeaadc79"
     }
    }
   }
  }
 },
 "nbformat": 4,
 "nbformat_minor": 5
}
