{
 "cells": [
  {
   "cell_type": "code",
   "execution_count": 1,
   "id": "a98a5d18-900b-4a33-9e61-30a617641e15",
   "metadata": {},
   "outputs": [],
   "source": [
    "%reload_ext autoreload\n",
    "%autoreload 2"
   ]
  },
  {
   "cell_type": "code",
   "execution_count": 2,
   "id": "60d9b06c-7b9c-4b6d-b026-47dd65aebef7",
   "metadata": {},
   "outputs": [],
   "source": [
    "import os, sys\n",
    "sys.path.append(os.path.dirname(os.getcwd()))"
   ]
  },
  {
   "cell_type": "code",
   "execution_count": 20,
   "id": "c106a604-22dd-437c-860d-053480a0895f",
   "metadata": {},
   "outputs": [],
   "source": [
    "#|export\n",
    "import pickle\n",
    "from eye_quality import dataset\n",
    "\n",
    "class XGBClassifier():\n",
    "    \n",
    "    def __init__(self, file_name):\n",
    "        self.xgb_model = pickle.load(open(file_name, \"rb\"))\n",
    "        self.feature_gen = dataset.FeatureGenerator([], 'all_data')\n",
    "        \n",
    "    def predict(self, img):\n",
    "        img = dataset.load_image(img)\n",
    "        if img is None:\n",
    "            return None\n",
    "        f = self.feature_gen.generate_features(img, include_generic=True)\n",
    "        return self.xgb_model.predict([f])[0]"
   ]
  },
  {
   "cell_type": "code",
   "execution_count": 11,
   "id": "69e8b298-4dd7-4c43-a2ea-cc1c35fd9aa9",
   "metadata": {},
   "outputs": [
    {
     "name": "stdout",
     "output_type": "stream",
     "text": [
      "Loaded kmeans model\n"
     ]
    }
   ],
   "source": [
    "clsf = XGBClassifier('xgboost.pkl')"
   ]
  },
  {
   "cell_type": "code",
   "execution_count": 13,
   "id": "c7deb793-c5aa-4f22-bb71-4dd101510421",
   "metadata": {},
   "outputs": [
    {
     "data": {
      "text/plain": [
       "2"
      ]
     },
     "execution_count": 13,
     "metadata": {},
     "output_type": "execute_result"
    }
   ],
   "source": [
    "clsf.predict('/home/tiurin/projects/ExampleProject/Temp/DRIMDB/Good/drimdb_good (65).jpg')"
   ]
  },
  {
   "cell_type": "code",
   "execution_count": 18,
   "id": "2c0fb7be-100a-4858-a347-85301c1b6c5a",
   "metadata": {},
   "outputs": [
    {
     "data": {
      "text/plain": [
       "'/share/data_rechenknecht03_2/students/tiurin/projects/ExampleProject/Temp/code/nbs/classify.ipynb'"
      ]
     },
     "execution_count": 18,
     "metadata": {},
     "output_type": "execute_result"
    }
   ],
   "source": [
    "import os\n",
    "ipynb_path = os.path.join(os.getcwd(), 'classify.ipynb')\n",
    "ipynb_path"
   ]
  },
  {
   "cell_type": "code",
   "execution_count": 21,
   "id": "2ebdb547-5255-486f-86e6-8ad2d91b890b",
   "metadata": {},
   "outputs": [],
   "source": [
    "#|default_exp classify\n",
    "#|hide\n",
    "import nbdev; nbdev.nbdev_export(ipynb_path)"
   ]
  },
  {
   "cell_type": "code",
   "execution_count": null,
   "id": "bea6114c-560d-4a9b-9090-72756e5b8377",
   "metadata": {},
   "outputs": [],
   "source": []
  }
 ],
 "metadata": {
  "kernelspec": {
   "display_name": "Python [conda env:mri_gpu] *",
   "language": "python",
   "name": "conda-env-mri_gpu-py"
  },
  "language_info": {
   "codemirror_mode": {
    "name": "ipython",
    "version": 3
   },
   "file_extension": ".py",
   "mimetype": "text/x-python",
   "name": "python",
   "nbconvert_exporter": "python",
   "pygments_lexer": "ipython3",
   "version": "3.10.8"
  }
 },
 "nbformat": 4,
 "nbformat_minor": 5
}
