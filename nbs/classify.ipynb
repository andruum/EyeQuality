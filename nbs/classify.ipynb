{
 "cells": [
  {
   "cell_type": "code",
   "execution_count": 42,
   "id": "a98a5d18-900b-4a33-9e61-30a617641e15",
   "metadata": {},
   "outputs": [],
   "source": [
    "%reload_ext autoreload\n",
    "%autoreload 2"
   ]
  },
  {
   "cell_type": "code",
   "execution_count": 43,
   "id": "60d9b06c-7b9c-4b6d-b026-47dd65aebef7",
   "metadata": {},
   "outputs": [],
   "source": [
    "import os, sys\n",
    "sys.path.append(os.path.dirname(os.getcwd()))"
   ]
  },
  {
   "cell_type": "code",
   "execution_count": 84,
   "id": "c106a604-22dd-437c-860d-053480a0895f",
   "metadata": {},
   "outputs": [],
   "source": [
    "#|export\n",
    "import pickle\n",
    "from eye_quality import dataset\n",
    "\n",
    "class XGBClassifier():\n",
    "    \n",
    "    def __init__(self, file_name):\n",
    "        self.xgb_model = pickle.load(open(file_name, \"rb\"))\n",
    "        self.feature_gen = dataset.FeatureGenerator([], 'all_data')\n",
    "    \n",
    "    def preload(self, img):\n",
    "        img = dataset.load_image(img)\n",
    "        if img is None:\n",
    "            return None\n",
    "        f = self.feature_gen.generate_features(img, include_generic=True)\n",
    "        return f\n",
    "        \n",
    "    def predict(self, img):\n",
    "        f = self.preload(img)\n",
    "        return self.xgb_model.predict([f])[0]\n",
    "    \n",
    "    def predict_prob(self, img):\n",
    "        f = self.preload(img)\n",
    "        return self.xgb_model.predict_proba([f])[0]"
   ]
  },
  {
   "cell_type": "code",
   "execution_count": 85,
   "id": "69e8b298-4dd7-4c43-a2ea-cc1c35fd9aa9",
   "metadata": {},
   "outputs": [
    {
     "name": "stdout",
     "output_type": "stream",
     "text": [
      "Loaded kmeans model\n"
     ]
    }
   ],
   "source": [
    "clsf = XGBClassifier('xgboost_binary_prob_all.pkl')"
   ]
  },
  {
   "cell_type": "code",
   "execution_count": 86,
   "id": "82d6c588-8684-46d1-805b-efcd5d72c82e",
   "metadata": {},
   "outputs": [],
   "source": [
    "import glob"
   ]
  },
  {
   "cell_type": "code",
   "execution_count": 87,
   "id": "1e8957e1-69b5-440f-8c0e-f15fda2f5233",
   "metadata": {},
   "outputs": [],
   "source": [
    "import os"
   ]
  },
  {
   "cell_type": "code",
   "execution_count": 88,
   "id": "0c8ced54-ad18-4659-89cc-820722d569ae",
   "metadata": {},
   "outputs": [],
   "source": [
    "samples = glob.glob(os.path.join(os.path.join(dataset.DATASET_PATH, 'test'), '*.jpg'))\n",
    "samples.extend(glob.glob(os.path.join(os.path.join(dataset.DATASET_PATH, 'test'), '*.png')))"
   ]
  },
  {
   "cell_type": "code",
   "execution_count": 71,
   "id": "f5858172-b3ee-4990-8492-eb54ac1206af",
   "metadata": {},
   "outputs": [],
   "source": [
    "samples = glob.glob(os.path.join(os.path.join(dataset.DATASET_PATH, 'processed'), '1', '*.png'))"
   ]
  },
  {
   "cell_type": "code",
   "execution_count": 72,
   "id": "3faef5e5-a157-40d0-9b29-563125faad06",
   "metadata": {},
   "outputs": [],
   "source": [
    "samples.extend(glob.glob(os.path.join(os.path.join(dataset.DATASET_PATH, 'processed_test'), '1', '*.png')))"
   ]
  },
  {
   "cell_type": "code",
   "execution_count": 73,
   "id": "c6047375-cf87-486b-b9cb-523ee994ae19",
   "metadata": {},
   "outputs": [],
   "source": [
    "out_path = '/home/tiurin/projects/ExampleProject/Temp/sorted_middle'"
   ]
  },
  {
   "cell_type": "code",
   "execution_count": 60,
   "id": "ba38df96-346a-42dd-b237-465833d64af4",
   "metadata": {},
   "outputs": [],
   "source": [
    "import shutil"
   ]
  },
  {
   "cell_type": "code",
   "execution_count": 74,
   "id": "7c520084-bba4-4456-b179-d6e38d1392dd",
   "metadata": {},
   "outputs": [],
   "source": [
    "import tqdm"
   ]
  },
  {
   "cell_type": "code",
   "execution_count": 89,
   "id": "7c69650e-9f43-45b8-8bc9-6e054360ecad",
   "metadata": {},
   "outputs": [
    {
     "name": "stdout",
     "output_type": "stream",
     "text": [
      "0.1 /home/tiurin/projects/ExampleProject/Temp/test/photo_2022-12-06_22-17-06.jpg\n",
      "0.0 /home/tiurin/projects/ExampleProject/Temp/test/photo_2022-12-06_22-20-12.jpg\n",
      "25.4 /home/tiurin/projects/ExampleProject/Temp/test/merged_20.png\n",
      "0.0 /home/tiurin/projects/ExampleProject/Temp/test/merged_19.png\n",
      "0.5 /home/tiurin/projects/ExampleProject/Temp/test/merged_21.png\n",
      "0.0 /home/tiurin/projects/ExampleProject/Temp/test/merged_0.png\n",
      "0.0 /home/tiurin/projects/ExampleProject/Temp/test/merged_1.png\n",
      "0.0 /home/tiurin/projects/ExampleProject/Temp/test/merged_2.png\n",
      "0.0 /home/tiurin/projects/ExampleProject/Temp/test/merged_3.png\n",
      "0.0 /home/tiurin/projects/ExampleProject/Temp/test/merged_4.png\n",
      "0.0 /home/tiurin/projects/ExampleProject/Temp/test/merged_5.png\n",
      "0.0 /home/tiurin/projects/ExampleProject/Temp/test/merged_6.png\n",
      "0.0 /home/tiurin/projects/ExampleProject/Temp/test/merged_7.png\n",
      "0.1 /home/tiurin/projects/ExampleProject/Temp/test/merged_8.png\n",
      "0.0 /home/tiurin/projects/ExampleProject/Temp/test/merged_9.png\n",
      "8.7 /home/tiurin/projects/ExampleProject/Temp/test/merged_10.png\n",
      "0.8 /home/tiurin/projects/ExampleProject/Temp/test/merged_11.png\n",
      "0.0 /home/tiurin/projects/ExampleProject/Temp/test/merged_12.png\n",
      "72.6 /home/tiurin/projects/ExampleProject/Temp/test/merged_13.png\n",
      "0.4 /home/tiurin/projects/ExampleProject/Temp/test/merged_14.png\n",
      "0.0 /home/tiurin/projects/ExampleProject/Temp/test/merged_15.png\n",
      "0.8 /home/tiurin/projects/ExampleProject/Temp/test/merged_16.png\n",
      "0.0 /home/tiurin/projects/ExampleProject/Temp/test/merged_17.png\n",
      "3.3 /home/tiurin/projects/ExampleProject/Temp/test/merged_18.png\n"
     ]
    }
   ],
   "source": [
    "for s in samples:\n",
    "    r = clsf.predict_prob(s)[1]\n",
    "    r *= 1000\n",
    "    r = int(r)/10\n",
    "    print(r, s)\n",
    "    #source = s\n",
    "    #c = 0 if r == 1 else 2\n",
    "    #dst = os.path.join(out_path, str(c), os.path.basename(s))\n",
    "    #shutil.copy(source, dst)"
   ]
  },
  {
   "cell_type": "code",
   "execution_count": 64,
   "id": "11d1d85a-3f36-45c8-ac92-0621f6b4de08",
   "metadata": {},
   "outputs": [],
   "source": [
    "import os"
   ]
  },
  {
   "cell_type": "code",
   "execution_count": 65,
   "id": "7532ef97-8898-40e4-9b34-7c4e949e9ad5",
   "metadata": {},
   "outputs": [],
   "source": [
    "from pathlib import Path\n",
    "Path(os.path.join(out_path, '0')).mkdir(parents=True, exist_ok=True)\n",
    "Path(os.path.join(out_path, '2')).mkdir(parents=True, exist_ok=True)"
   ]
  },
  {
   "cell_type": "code",
   "execution_count": 90,
   "id": "2c0fb7be-100a-4858-a347-85301c1b6c5a",
   "metadata": {},
   "outputs": [
    {
     "data": {
      "text/plain": [
       "'/share/data_rechenknecht03_2/students/tiurin/projects/ExampleProject/Temp/code/nbs/classify.ipynb'"
      ]
     },
     "execution_count": 90,
     "metadata": {},
     "output_type": "execute_result"
    }
   ],
   "source": [
    "import os\n",
    "ipynb_path = os.path.join(os.getcwd(), 'classify.ipynb')\n",
    "ipynb_path"
   ]
  },
  {
   "cell_type": "code",
   "execution_count": 91,
   "id": "2ebdb547-5255-486f-86e6-8ad2d91b890b",
   "metadata": {},
   "outputs": [],
   "source": [
    "#|default_exp classify\n",
    "#|hide\n",
    "import nbdev; nbdev.nbdev_export(ipynb_path)"
   ]
  },
  {
   "cell_type": "code",
   "execution_count": null,
   "id": "bea6114c-560d-4a9b-9090-72756e5b8377",
   "metadata": {},
   "outputs": [],
   "source": []
  }
 ],
 "metadata": {
  "kernelspec": {
   "display_name": "Python [conda env:mri_gpu] *",
   "language": "python",
   "name": "conda-env-mri_gpu-py"
  },
  "language_info": {
   "codemirror_mode": {
    "name": "ipython",
    "version": 3
   },
   "file_extension": ".py",
   "mimetype": "text/x-python",
   "name": "python",
   "nbconvert_exporter": "python",
   "pygments_lexer": "ipython3",
   "version": "3.10.8"
  }
 },
 "nbformat": 4,
 "nbformat_minor": 5
}
