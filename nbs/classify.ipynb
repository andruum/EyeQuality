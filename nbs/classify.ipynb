{
 "cells": [
  {
   "cell_type": "code",
   "execution_count": 1,
   "id": "a98a5d18-900b-4a33-9e61-30a617641e15",
   "metadata": {},
   "outputs": [],
   "source": [
    "%reload_ext autoreload\n",
    "%autoreload 2"
   ]
  },
  {
   "cell_type": "code",
   "execution_count": 2,
   "id": "60d9b06c-7b9c-4b6d-b026-47dd65aebef7",
   "metadata": {},
   "outputs": [],
   "source": [
    "import os, sys\n",
    "sys.path.append(os.path.dirname(os.getcwd()))"
   ]
  },
  {
   "cell_type": "code",
   "execution_count": 20,
   "id": "c106a604-22dd-437c-860d-053480a0895f",
   "metadata": {},
   "outputs": [],
   "source": [
    "#|export\n",
    "import pickle\n",
    "from eye_quality import dataset\n",
    "\n",
    "class XGBClassifier():\n",
    "    \n",
    "    def __init__(self, file_name):\n",
    "        self.xgb_model = pickle.load(open(file_name, \"rb\"))\n",
    "        self.feature_gen = dataset.FeatureGenerator([], 'all_data')\n",
    "        \n",
    "    def predict(self, img):\n",
    "        img = dataset.load_image(img)\n",
    "        if img is None:\n",
    "            return None\n",
    "        f = self.feature_gen.generate_features(img, include_generic=True)\n",
    "        return self.xgb_model.predict([f])[0]"
   ]
  },
  {
   "cell_type": "code",
   "execution_count": 30,
   "id": "69e8b298-4dd7-4c43-a2ea-cc1c35fd9aa9",
   "metadata": {},
   "outputs": [
    {
     "name": "stdout",
     "output_type": "stream",
     "text": [
      "Loaded kmeans model\n"
     ]
    }
   ],
   "source": [
    "clsf = XGBClassifier('xgboost_binary.pkl')"
   ]
  },
  {
   "cell_type": "code",
   "execution_count": 31,
   "id": "82d6c588-8684-46d1-805b-efcd5d72c82e",
   "metadata": {},
   "outputs": [],
   "source": [
    "import glob"
   ]
  },
  {
   "cell_type": "code",
   "execution_count": 32,
   "id": "d53440be-341d-421d-acbc-4202c4eb0cd3",
   "metadata": {},
   "outputs": [],
   "source": [
    "p = '/home/tiurin/projects/ExampleProject/Temp/test'"
   ]
  },
  {
   "cell_type": "code",
   "execution_count": 33,
   "id": "1e8957e1-69b5-440f-8c0e-f15fda2f5233",
   "metadata": {},
   "outputs": [],
   "source": [
    "import os"
   ]
  },
  {
   "cell_type": "code",
   "execution_count": 34,
   "id": "f5858172-b3ee-4990-8492-eb54ac1206af",
   "metadata": {},
   "outputs": [],
   "source": [
    "samples = glob.glob(os.path.join(p, '*.jpg'))"
   ]
  },
  {
   "cell_type": "code",
   "execution_count": 35,
   "id": "3faef5e5-a157-40d0-9b29-563125faad06",
   "metadata": {},
   "outputs": [],
   "source": [
    "samples.extend(glob.glob(os.path.join(p, '*.png')))"
   ]
  },
  {
   "cell_type": "code",
   "execution_count": 36,
   "id": "7c69650e-9f43-45b8-8bc9-6e054360ecad",
   "metadata": {},
   "outputs": [
    {
     "name": "stdout",
     "output_type": "stream",
     "text": [
      "0 /home/tiurin/projects/ExampleProject/Temp/test/photo_2022-12-06_22-17-06.jpg\n",
      "0 /home/tiurin/projects/ExampleProject/Temp/test/photo_2022-12-06_22-20-12.jpg\n",
      "0 /home/tiurin/projects/ExampleProject/Temp/test/merged_20.png\n",
      "0 /home/tiurin/projects/ExampleProject/Temp/test/merged_19.png\n",
      "0 /home/tiurin/projects/ExampleProject/Temp/test/merged_21.png\n",
      "0 /home/tiurin/projects/ExampleProject/Temp/test/merged_0.png\n",
      "0 /home/tiurin/projects/ExampleProject/Temp/test/merged_1.png\n",
      "0 /home/tiurin/projects/ExampleProject/Temp/test/merged_2.png\n",
      "0 /home/tiurin/projects/ExampleProject/Temp/test/merged_3.png\n",
      "0 /home/tiurin/projects/ExampleProject/Temp/test/merged_4.png\n",
      "0 /home/tiurin/projects/ExampleProject/Temp/test/merged_5.png\n",
      "0 /home/tiurin/projects/ExampleProject/Temp/test/merged_6.png\n",
      "0 /home/tiurin/projects/ExampleProject/Temp/test/merged_7.png\n",
      "0 /home/tiurin/projects/ExampleProject/Temp/test/merged_8.png\n",
      "0 /home/tiurin/projects/ExampleProject/Temp/test/merged_9.png\n",
      "0 /home/tiurin/projects/ExampleProject/Temp/test/merged_10.png\n",
      "0 /home/tiurin/projects/ExampleProject/Temp/test/merged_11.png\n",
      "0 /home/tiurin/projects/ExampleProject/Temp/test/merged_12.png\n",
      "0 /home/tiurin/projects/ExampleProject/Temp/test/merged_13.png\n",
      "0 /home/tiurin/projects/ExampleProject/Temp/test/merged_14.png\n",
      "0 /home/tiurin/projects/ExampleProject/Temp/test/merged_15.png\n",
      "0 /home/tiurin/projects/ExampleProject/Temp/test/merged_16.png\n",
      "0 /home/tiurin/projects/ExampleProject/Temp/test/merged_17.png\n",
      "0 /home/tiurin/projects/ExampleProject/Temp/test/merged_18.png\n"
     ]
    }
   ],
   "source": [
    "for s in samples:\n",
    "    r = clsf.predict(s)\n",
    "    print(r, s)"
   ]
  },
  {
   "cell_type": "code",
   "execution_count": 18,
   "id": "2c0fb7be-100a-4858-a347-85301c1b6c5a",
   "metadata": {},
   "outputs": [
    {
     "data": {
      "text/plain": [
       "'/share/data_rechenknecht03_2/students/tiurin/projects/ExampleProject/Temp/code/nbs/classify.ipynb'"
      ]
     },
     "execution_count": 18,
     "metadata": {},
     "output_type": "execute_result"
    }
   ],
   "source": [
    "import os\n",
    "ipynb_path = os.path.join(os.getcwd(), 'classify.ipynb')\n",
    "ipynb_path"
   ]
  },
  {
   "cell_type": "code",
   "execution_count": 21,
   "id": "2ebdb547-5255-486f-86e6-8ad2d91b890b",
   "metadata": {},
   "outputs": [],
   "source": [
    "#|default_exp classify\n",
    "#|hide\n",
    "import nbdev; nbdev.nbdev_export(ipynb_path)"
   ]
  },
  {
   "cell_type": "code",
   "execution_count": null,
   "id": "bea6114c-560d-4a9b-9090-72756e5b8377",
   "metadata": {},
   "outputs": [],
   "source": []
  }
 ],
 "metadata": {
  "kernelspec": {
   "display_name": "Python [conda env:mri_gpu] *",
   "language": "python",
   "name": "conda-env-mri_gpu-py"
  },
  "language_info": {
   "codemirror_mode": {
    "name": "ipython",
    "version": 3
   },
   "file_extension": ".py",
   "mimetype": "text/x-python",
   "name": "python",
   "nbconvert_exporter": "python",
   "pygments_lexer": "ipython3",
   "version": "3.10.8"
  }
 },
 "nbformat": 4,
 "nbformat_minor": 5
}
