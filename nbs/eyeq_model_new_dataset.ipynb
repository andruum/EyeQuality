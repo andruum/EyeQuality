{
 "cells": [
  {
   "cell_type": "code",
   "execution_count": null,
   "id": "uABsSqAi88XQ",
   "metadata": {
    "colab": {
     "base_uri": "https://localhost:8080/",
     "height": 351
    },
    "id": "uABsSqAi88XQ",
    "outputId": "07efa279-c3c2-4fb4-f978-6f56ddb3b114"
   },
   "outputs": [],
   "source": [
    "import zipfile\n",
    "zip_ref = zipfile.ZipFile(\"/content/drive/MyDrive/Colab Notebooks/eye_quality/processed.zip\", 'r')\n",
    "zip_ref.extractall(\"/content/drive/MyDrive/Colab Notebooks/eye_quality/\")\n",
    "zip_ref.close()"
   ]
  },
  {
   "cell_type": "code",
   "execution_count": null,
   "id": "KTxwxH4X7tG1",
   "metadata": {
    "colab": {
     "base_uri": "https://localhost:8080/"
    },
    "id": "KTxwxH4X7tG1",
    "outputId": "a4b6b02a-1048-4ecf-9f0c-c0da5bf4fa9d"
   },
   "outputs": [],
   "source": [
    "from google.colab import drive\n",
    "drive.mount('/content/drive')"
   ]
  },
  {
   "cell_type": "code",
   "execution_count": null,
   "id": "StrkFlu8ybg0",
   "metadata": {
    "colab": {
     "base_uri": "https://localhost:8080/"
    },
    "id": "StrkFlu8ybg0",
    "outputId": "d3eee920-737c-4a6b-85bf-f0b24da807a1"
   },
   "outputs": [],
   "source": [
    "!pip install pytorch-lightning timm torchinfo"
   ]
  },
  {
   "cell_type": "code",
   "execution_count": null,
   "id": "dcbb76af-68db-429d-87bb-9e67d8c81937",
   "metadata": {},
   "outputs": [],
   "source": [
    "root_dir = '/content/drive/MyDrive/Colab Notebooks/eye_quality'"
   ]
  },
  {
   "cell_type": "code",
   "execution_count": 1,
   "id": "1c62b08c-e61f-4922-8114-0f812155833a",
   "metadata": {},
   "outputs": [],
   "source": [
    "root_dir = '/home/tiurin/projects/ExampleProject/Temp/'"
   ]
  },
  {
   "cell_type": "code",
   "execution_count": 2,
   "id": "8d85868b-8284-465a-ba64-d955b06f537b",
   "metadata": {
    "id": "8d85868b-8284-465a-ba64-d955b06f537b"
   },
   "outputs": [],
   "source": [
    "%reload_ext autoreload\n",
    "%autoreload 2"
   ]
  },
  {
   "cell_type": "code",
   "execution_count": 3,
   "id": "cc2df090-903a-457d-ab7b-15c130d3d56b",
   "metadata": {},
   "outputs": [],
   "source": [
    "import sys\n",
    "sys.path.append('/home/tiurin/projects/ExampleProject/Temp/code/eye_quality/')"
   ]
  },
  {
   "cell_type": "code",
   "execution_count": 4,
   "id": "6337e9a5-3ab1-4c8e-b7ee-3b8136ba58b7",
   "metadata": {},
   "outputs": [],
   "source": [
    "import dataset_utils"
   ]
  },
  {
   "cell_type": "code",
   "execution_count": 5,
   "id": "a2bf1763-189f-41cf-9560-4f3a00f3c68f",
   "metadata": {},
   "outputs": [],
   "source": [
    "import evaluation_utils"
   ]
  },
  {
   "cell_type": "code",
   "execution_count": 6,
   "id": "43d38085-6cf5-43fa-8328-fa1a5a2a1b48",
   "metadata": {
    "id": "43d38085-6cf5-43fa-8328-fa1a5a2a1b48"
   },
   "outputs": [],
   "source": [
    "from torch.utils.data import Subset,DataLoader\n",
    "from torchvision import transforms, utils\n",
    "import torchvision\n",
    "import torch"
   ]
  },
  {
   "cell_type": "code",
   "execution_count": 7,
   "id": "d3fc48bb-db17-4acd-a980-45f2eb9a3edc",
   "metadata": {},
   "outputs": [],
   "source": [
    "import torch.nn.functional as F"
   ]
  },
  {
   "cell_type": "code",
   "execution_count": 8,
   "id": "117c945d-4b33-4c11-8a93-9e7920d3fc9c",
   "metadata": {},
   "outputs": [],
   "source": [
    "import os"
   ]
  },
  {
   "cell_type": "code",
   "execution_count": 9,
   "id": "18385355-8b3b-4bc4-829e-c0239fc0780f",
   "metadata": {
    "id": "18385355-8b3b-4bc4-829e-c0239fc0780f"
   },
   "outputs": [],
   "source": [
    "import numpy as np"
   ]
  },
  {
   "cell_type": "code",
   "execution_count": 10,
   "id": "da740389-2164-4f76-ab71-b29945d87748",
   "metadata": {
    "id": "da740389-2164-4f76-ab71-b29945d87748"
   },
   "outputs": [],
   "source": [
    "import pytorch_lightning as pl"
   ]
  },
  {
   "cell_type": "code",
   "execution_count": 11,
   "id": "7ea474db-2806-4731-867e-a33c49ef9f9c",
   "metadata": {
    "colab": {
     "base_uri": "https://localhost:8080/"
    },
    "id": "7ea474db-2806-4731-867e-a33c49ef9f9c",
    "outputId": "8c0a4117-487a-4e07-fb76-385612f32629"
   },
   "outputs": [
    {
     "name": "stderr",
     "output_type": "stream",
     "text": [
      "Global seed set to 42\n"
     ]
    }
   ],
   "source": [
    "# Setting the seed\n",
    "pl.seed_everything(42)\n",
    "\n",
    "# Ensure that all operations are deterministic on GPU (if used) for reproducibility\n",
    "torch.backends.cudnn.deterministic = True\n",
    "torch.backends.cudnn.benchmark = False"
   ]
  },
  {
   "cell_type": "code",
   "execution_count": 12,
   "id": "ab77bcad-ee02-43f1-9a8e-0b9b60a4de2f",
   "metadata": {
    "id": "ab77bcad-ee02-43f1-9a8e-0b9b60a4de2f"
   },
   "outputs": [],
   "source": [
    "train_set, val_set, class_weights = dataset_utils.get_dataset(train_percent=0.9, \n",
    "                                                              rotation_transform=True,\n",
    "                                                             zoom_augment=True)\n",
    "\n",
    "#train_set = Subset(train_set, torch.arange(100))\n",
    "#val_set = Subset(val_set, torch.arange(100))\n",
    "\n",
    "train_loader = DataLoader(train_set, batch_size=32*3, shuffle=True,\n",
    "                               drop_last=True, pin_memory=True, num_workers=8)\n",
    "val_loader = DataLoader(val_set, batch_size=32*3, shuffle=False,\n",
    "                             drop_last=False, num_workers=8)"
   ]
  },
  {
   "cell_type": "code",
   "execution_count": 13,
   "id": "e34f7750-7d3d-471d-90ce-67a8cb5d1896",
   "metadata": {},
   "outputs": [],
   "source": [
    "#device = torch.device(\"cpu\")"
   ]
  },
  {
   "cell_type": "code",
   "execution_count": null,
   "id": "91ddd43e-3442-4a9c-94e1-6fdf06dee61e",
   "metadata": {
    "colab": {
     "base_uri": "https://localhost:8080/"
    },
    "id": "91ddd43e-3442-4a9c-94e1-6fdf06dee61e",
    "outputId": "dd507e4f-61c9-417d-c90b-a970a53d0f9e"
   },
   "outputs": [],
   "source": [
    "device = torch.device(\"cpu\") if not torch.cuda.is_available() else torch.device(\"cuda:0\")\n",
    "print(\"Using device\", device)"
   ]
  },
  {
   "cell_type": "code",
   "execution_count": null,
   "id": "16f528b7-4868-478c-b9db-72984fba1b18",
   "metadata": {
    "id": "16f528b7-4868-478c-b9db-72984fba1b18"
   },
   "outputs": [],
   "source": [
    "import torchinfo"
   ]
  },
  {
   "cell_type": "code",
   "execution_count": null,
   "id": "de8d113c-becd-438a-a8ba-e53a9ea44e0d",
   "metadata": {
    "id": "de8d113c-becd-438a-a8ba-e53a9ea44e0d"
   },
   "outputs": [],
   "source": [
    "from torch import optim, nn\n",
    "import timm\n",
    "import torchmetrics"
   ]
  },
  {
   "cell_type": "code",
   "execution_count": null,
   "id": "3c830382-717f-4cb3-9b5e-f47710c43f75",
   "metadata": {},
   "outputs": [],
   "source": [
    "class STNet(nn.Module):\n",
    "    def __init__(self):\n",
    "        super(STNet, self).__init__()\n",
    "        \n",
    "        self.localization = nn.Sequential(\n",
    "            nn.Conv2d(1, 8, kernel_size=7),\n",
    "            nn.MaxPool2d(5, stride=5),\n",
    "            nn.ReLU(),\n",
    "            nn.Conv2d(8, 10, kernel_size=5),\n",
    "            nn.MaxPool2d(5, stride=5),\n",
    "            nn.ReLU(),\n",
    "            nn.Conv2d(10, 10, kernel_size=3),\n",
    "            nn.MaxPool2d(3, stride=3),\n",
    "            nn.ReLU()\n",
    "        )\n",
    "        \n",
    "        self.fc_loc = nn.Sequential(\n",
    "            nn.Linear(160, 32),\n",
    "            nn.ReLU(),\n",
    "            nn.Linear(32, 2)\n",
    "        )\n",
    "        \n",
    "        def _init_weights(m):\n",
    "            if isinstance(m, (nn.Linear, nn.Conv2d)):\n",
    "                torch.nn.init.xavier_uniform_(m.weight)\n",
    "                m.bias.data.fill_(0.0)\n",
    "        \n",
    "        self.localization.apply(_init_weights)\n",
    "        \n",
    "        torch.nn.init.xavier_uniform_(self.fc_loc[0].weight)\n",
    "        self.fc_loc[0].bias.data.fill_(0.0)\n",
    "        \n",
    "        self.fc_loc[2].weight.data.zero_()\n",
    "        self.fc_loc[2].bias.data.copy_(torch.tensor([0, 1], dtype=torch.float))\n",
    "    \n",
    "    def forward(self, x, mask=None):\n",
    "        tnsfm = self.get_transform(x, mask)\n",
    "        x = self.transform(x, tnsfm)\n",
    "        return x\n",
    "    \n",
    "    def get_transform(self, x, mask=None):\n",
    "        xs = self.localization(x)\n",
    "        xs = xs.view(x.shape[0], -1)\n",
    "        transformer = self.fc_loc(xs)\n",
    "        transformer = transformer.view(x.shape[0], 2)\n",
    "        \n",
    "        if mask is not None:\n",
    "            transformer[mask==False] = torch.tensor([0, 1], dtype=torch.float).to(x.device)   \n",
    "        \n",
    "        transformer[:, 1] = F.relu(transformer[:, 1])\n",
    "        transformer[:, 1] += 0.000000001\n",
    "        \n",
    "        theta = torch.zeros(transformer.shape[0], 2, 3).to(x.device)\n",
    "        \n",
    "        cos_val = torch.cos(transformer[:, 0])\n",
    "        sin_val = torch.sin(transformer[:, 0])\n",
    "        theta[:, 0, 0] = cos_val\n",
    "        theta[:, 0, 1] = sin_val\n",
    "        theta[:, 1, 0] = -sin_val\n",
    "        theta[:, 1, 1] = cos_val\n",
    "        theta[:, 0, 0] *= transformer[:,1]\n",
    "        theta[:, 0, 1] *= transformer[:,1]\n",
    "        theta[:, 1, 0] *= transformer[:,1]\n",
    "        theta[:, 1, 1] *= transformer[:,1]\n",
    "        \n",
    "        return theta\n",
    "    \n",
    "    def transform(self, x, theta):\n",
    "        x = dataset_utils.inverse_transform(x)\n",
    "        grid = F.affine_grid(theta, x.size(), align_corners=False)\n",
    "        x = F.grid_sample(x, grid, align_corners=False)\n",
    "        x = dataset_utils.normalize(x)\n",
    "        return x"
   ]
  },
  {
   "cell_type": "code",
   "execution_count": null,
   "id": "6e4960d6-caa5-4725-8785-03ce541d8939",
   "metadata": {},
   "outputs": [],
   "source": [
    "stn = STNet()\n",
    "stn = stn.to(device)"
   ]
  },
  {
   "cell_type": "code",
   "execution_count": null,
   "id": "d2308286-24f6-4898-ad50-94c466bf8a27",
   "metadata": {},
   "outputs": [],
   "source": [
    "torchinfo.summary(stn, (32, 1, 400, 400), device=device)"
   ]
  },
  {
   "cell_type": "code",
   "execution_count": null,
   "id": "b692748b-f1d8-47ee-9852-18779928704b",
   "metadata": {
    "id": "b692748b-f1d8-47ee-9852-18779928704b"
   },
   "outputs": [],
   "source": [
    "class EyeQualityModel(pl.LightningModule):\n",
    "    def __init__(self, class_weights=None):\n",
    "        super().__init__()\n",
    "        \n",
    "        self.stn = STNet()\n",
    "        \n",
    "        self.net = timm.create_model('efficientnet_es', pretrained=True, in_chans=1)\n",
    "        self.net.classifier = nn.Identity()\n",
    "        self.classifier = nn.Linear(1280, 2)\n",
    "        \n",
    "        torch.nn.init.xavier_uniform_(self.classifier.weight)\n",
    "        self.classifier.bias.data.fill_(0.0)\n",
    "        \n",
    "        self.class_weights = class_weights\n",
    "        #self.example_input_array = train_set[0][1].unsqueeze(0)\n",
    "        \n",
    "    def forward(self, x, mask=None):\n",
    "        x = self.stn(x, mask)\n",
    "        x = self.net(x)\n",
    "        x = self.classifier(x)\n",
    "        return x\n",
    "    \n",
    "    def ordinal_regression(self, predictions, targets):\n",
    "        modified_target = torch.zeros_like(predictions)\n",
    "        for i, target in enumerate(targets):\n",
    "            if target > 0:\n",
    "                modified_target[i, 0:target] = 1\n",
    "        loss = torch.nn.functional.binary_cross_entropy_with_logits(predictions,\n",
    "                                                                    modified_target,\n",
    "                                                                    reduction='none').sum(dim=1)\n",
    "        if self.class_weights is not None:\n",
    "            for i, target in enumerate(targets):\n",
    "                loss[i] *= self.class_weights[target]\n",
    "        return loss.mean()\n",
    "    \n",
    "    def predict(self, img):\n",
    "        x = self.forward(img)\n",
    "        c = self.prediction2label(x)\n",
    "        return c\n",
    "\n",
    "    def prediction2label(self, pred: np.ndarray):\n",
    "        pred = torch.sigmoid(pred)\n",
    "        return torch.clamp((pred > 0.5).cumprod(axis=1).sum(axis=1), min=0)\n",
    "    \n",
    "    def training_step(self, batch, batch_idx):\n",
    "        class_lbl, img = batch\n",
    "        \n",
    "        if batch_idx == 0:\n",
    "            self.stn = self.stn.to(self.device)\n",
    "        \n",
    "        mask_use_for_stn = class_lbl > 0\n",
    "        c = self.forward(img, mask_use_for_stn)\n",
    "        \n",
    "        loss = self.ordinal_regression(c, class_lbl)\n",
    "        self.log(\"train_loss\", loss)\n",
    "        \n",
    "        if batch_idx % 100 == 0:\n",
    "            x_tnsfm = self.stn(img)\n",
    "            \n",
    "            x_tnsfm = dataset_utils.convert_to_image(x_tnsfm[:9, :, :, :])\n",
    "            img_grid_out = evaluation_utils.make_image_grid(x_tnsfm)\n",
    "            img_grid_out = img_grid_out.astype(float) / 255\n",
    "            img_ = dataset_utils.convert_to_image(img[:9, :, :, :])\n",
    "            img_grid_in = evaluation_utils.make_image_grid(img_)\n",
    "            img_grid_in = img_grid_in.astype(float) / 255\n",
    "            \n",
    "            img_grid = (img_grid_out - img_grid_in + 1.0)/2.0\n",
    "            \n",
    "            self.logger.experiment.add_image(\"STN output diff\", img_grid, self.current_epoch*800 + batch_idx, dataformats=\"CHW\")\n",
    "            \n",
    "        return loss\n",
    "    \n",
    "    def validation_step(self, batch, batch_idx):\n",
    "        class_lbl, img = batch\n",
    "        c = self.forward(img)\n",
    "        loss = self.ordinal_regression(c, class_lbl)\n",
    "        self.log(\"val_loss\", loss)\n",
    "        res = torch.vstack([self.prediction2label(c), class_lbl])\n",
    "        return res\n",
    "    \n",
    "    def validation_epoch_end(self, validation_step_outputs):\n",
    "        all_preds = torch.hstack(validation_step_outputs)\n",
    "        conf_mat = evaluation_utils.get_confusion_matrix(all_preds[0,:], all_preds[1,:])\n",
    "        self.log(\"val_accuracy\", evaluation_utils.accuracy(conf_mat))\n",
    "        self.log(\"val_recall\", evaluation_utils.recall(conf_mat))\n",
    "        self.log(\"val_precision\", evaluation_utils.precision(conf_mat))\n",
    "        self.log(\"val_f1_score\", evaluation_utils.f1_score(conf_mat))\n",
    "        self.log(\"val_class_accuracy_0\", evaluation_utils.class_accuracy(conf_mat, 0))\n",
    "        self.log(\"val_class_accuracy_1\", evaluation_utils.class_accuracy(conf_mat, 1))\n",
    "        self.log(\"val_class_accuracy_2\", evaluation_utils.class_accuracy(conf_mat, 2))\n",
    "        \n",
    "        fig = evaluation_utils.plot_confusion_matrix(conf_mat, ['Reject', 'Usable', 'Good'])\n",
    "        img = evaluation_utils.plot_to_image(fig)\n",
    "        \n",
    "        img = img.astype(float) / 255\n",
    "        self.logger.experiment.add_image(\"Confusion matrix\", img, self.current_epoch, dataformats=\"CHW\")\n",
    "\n",
    "    def configure_optimizers(self):\n",
    "        optimizer = optim.AdamW(self.parameters(), lr=3e-4)\n",
    "        scheduler = optim.lr_scheduler.ExponentialLR(optimizer, gamma=0.95)\n",
    "        return [optimizer], [scheduler]"
   ]
  },
  {
   "cell_type": "code",
   "execution_count": null,
   "id": "eb8c4b8b-e5ee-48a7-851e-880fa7416f36",
   "metadata": {},
   "outputs": [],
   "source": [
    "class_weights = None"
   ]
  },
  {
   "cell_type": "code",
   "execution_count": null,
   "id": "0db8124c-1af4-443a-9238-61e1feb13d63",
   "metadata": {},
   "outputs": [],
   "source": [
    "model = EyeQualityModel(class_weights)\n",
    "model = model.to(device)"
   ]
  },
  {
   "cell_type": "code",
   "execution_count": null,
   "id": "0b7acaa0-cd53-40a1-a8f2-61e4b16e5151",
   "metadata": {
    "id": "0b7acaa0-cd53-40a1-a8f2-61e4b16e5151"
   },
   "outputs": [],
   "source": [
    "#model = EyeQualityModel()"
   ]
  },
  {
   "cell_type": "code",
   "execution_count": null,
   "id": "9be384dc-f563-4c21-b9b0-24c1ed19f83a",
   "metadata": {},
   "outputs": [],
   "source": [
    "torchinfo.summary(model, (1, 1, 400, 400), device=device)"
   ]
  },
  {
   "cell_type": "code",
   "execution_count": null,
   "id": "wFUYissLhkQk",
   "metadata": {
    "id": "wFUYissLhkQk"
   },
   "outputs": [],
   "source": [
    "from pytorch_lightning.callbacks import ModelCheckpoint, LearningRateMonitor"
   ]
  },
  {
   "cell_type": "code",
   "execution_count": null,
   "id": "91fe52e7-17ff-41aa-88ab-25b6e2b5a01a",
   "metadata": {},
   "outputs": [],
   "source": [
    "checkpoint_path = os.path.join(root_dir, 'training')\n",
    "model_name = 'eyeq_model_new_dataset'\n",
    "root_dir_pl = os.path.join(checkpoint_path, model_name)"
   ]
  },
  {
   "cell_type": "code",
   "execution_count": null,
   "id": "gAkPPBvRhLed",
   "metadata": {
    "colab": {
     "base_uri": "https://localhost:8080/",
     "height": 441,
     "referenced_widgets": [
      "944f421589c34b188877893b3d2a998e",
      "4362cf691be14b1490a93c6441db7366",
      "35dc1845b46944269c02d23ab7a98069",
      "2f915dff2e78451a8eda5b0cdd974ca4",
      "2216328177984ad0add9fe87bd805f3f",
      "115336805748496fb96e856e2dc3188c",
      "0d1198dc6fad45c38837918416b1a74a",
      "2ce9f3de3e414ea4b908f380d1f7cec9",
      "c52014d3baf740bf8abc6d293ec76a0f",
      "ab962eb41e224e99a11aa17b786b3f53",
      "91bff599a8384e1aac3a7ca2afdd42a6",
      "e3a36920190e4a83aafcbc5ee7a9e9db",
      "7f8f7b34dfa3457cbdea68ef1d9a2f02",
      "7e073151707c48c0a7efcba939ba2607",
      "d3e8897060154117a7fae42d0ce6f7d0",
      "444792adc43b4c21bbe1615abeaadc79",
      "4338c85b2a224c1499fd2f360c84e5cb",
      "20d01ef924274818951a05888c582c7e",
      "a694a34518b844c2a0a21de63f69c76a",
      "2d1e6bcdf56c409890442a7efbd67728",
      "9b0ecc3c886847fd80f35070649156ab",
      "57066c4596434ca6a264cea47b081994"
     ]
    },
    "id": "gAkPPBvRhLed",
    "outputId": "89d39bbe-a1df-4308-b876-da5d1f5bbab1"
   },
   "outputs": [
    {
     "name": "stderr",
     "output_type": "stream",
     "text": [
      "GPU available: True (cuda), used: True\n",
      "TPU available: False, using: 0 TPU cores\n",
      "IPU available: False, using: 0 IPUs\n",
      "HPU available: False, using: 0 HPUs\n",
      "/home/tiurin/anaconda3/envs/mri_gpu/lib/python3.10/site-packages/pytorch_lightning/callbacks/model_checkpoint.py:616: UserWarning: Checkpoint directory /share/data_rechenknecht03_2/students/tiurin/projects/ExampleProject/Temp/training/eyeq_model_new_dataset exists and is not empty.\n",
      "  rank_zero_warn(f\"Checkpoint directory {dirpath} exists and is not empty.\")\n",
      "LOCAL_RANK: 0 - CUDA_VISIBLE_DEVICES: [0,1,2,3]\n",
      "\n",
      "  | Name       | Type         | Params\n",
      "--------------------------------------------\n",
      "0 | stn        | STNet        | 8.5 K \n",
      "1 | net        | EfficientNet | 4.2 M \n",
      "2 | classifier | Linear       | 2.6 K \n",
      "--------------------------------------------\n",
      "4.2 M     Trainable params\n",
      "0         Non-trainable params\n",
      "4.2 M     Total params\n",
      "16.672    Total estimated model params size (MB)\n",
      "/home/tiurin/anaconda3/envs/mri_gpu/lib/python3.10/site-packages/pytorch_lightning/loggers/tensorboard.py:250: UserWarning: Could not log computational graph since the `model.example_input_array` attribute is not set or `input_array` was not given\n",
      "  rank_zero_warn(\n"
     ]
    },
    {
     "data": {
      "application/vnd.jupyter.widget-view+json": {
       "model_id": "",
       "version_major": 2,
       "version_minor": 0
      },
      "text/plain": [
       "Sanity Checking: 0it [00:00, ?it/s]"
      ]
     },
     "metadata": {},
     "output_type": "display_data"
    },
    {
     "name": "stderr",
     "output_type": "stream",
     "text": [
      "/home/tiurin/projects/ExampleProject/Temp/code/eye_quality/evaluation_utils.py:104: RuntimeWarning: invalid value encountered in long_scalars\n",
      "  averageRecall += confusionMat[idx,idx]/np.sum(confusionMat[idx,:])\n",
      "/home/tiurin/projects/ExampleProject/Temp/code/eye_quality/evaluation_utils.py:93: RuntimeWarning: invalid value encountered in long_scalars\n",
      "  averagePrecision += confusionMat[idx,idx]/np.sum(confusionMat[:,idx])\n",
      "/home/tiurin/projects/ExampleProject/Temp/code/eye_quality/evaluation_utils.py:123: RuntimeWarning: invalid value encountered in long_scalars\n",
      "  return confusion_mat[class_num, class_num]/confusion_mat[class_num,:].sum()\n"
     ]
    },
    {
     "data": {
      "application/vnd.jupyter.widget-view+json": {
       "model_id": "9940e599ef6c474788ebd60f6f058286",
       "version_major": 2,
       "version_minor": 0
      },
      "text/plain": [
       "Training: 0it [00:00, ?it/s]"
      ]
     },
     "metadata": {},
     "output_type": "display_data"
    },
    {
     "data": {
      "application/vnd.jupyter.widget-view+json": {
       "model_id": "",
       "version_major": 2,
       "version_minor": 0
      },
      "text/plain": [
       "Validation: 0it [00:00, ?it/s]"
      ]
     },
     "metadata": {},
     "output_type": "display_data"
    },
    {
     "data": {
      "application/vnd.jupyter.widget-view+json": {
       "model_id": "",
       "version_major": 2,
       "version_minor": 0
      },
      "text/plain": [
       "Validation: 0it [00:00, ?it/s]"
      ]
     },
     "metadata": {},
     "output_type": "display_data"
    },
    {
     "data": {
      "application/vnd.jupyter.widget-view+json": {
       "model_id": "",
       "version_major": 2,
       "version_minor": 0
      },
      "text/plain": [
       "Validation: 0it [00:00, ?it/s]"
      ]
     },
     "metadata": {},
     "output_type": "display_data"
    },
    {
     "data": {
      "application/vnd.jupyter.widget-view+json": {
       "model_id": "",
       "version_major": 2,
       "version_minor": 0
      },
      "text/plain": [
       "Validation: 0it [00:00, ?it/s]"
      ]
     },
     "metadata": {},
     "output_type": "display_data"
    },
    {
     "data": {
      "application/vnd.jupyter.widget-view+json": {
       "model_id": "",
       "version_major": 2,
       "version_minor": 0
      },
      "text/plain": [
       "Validation: 0it [00:00, ?it/s]"
      ]
     },
     "metadata": {},
     "output_type": "display_data"
    },
    {
     "data": {
      "application/vnd.jupyter.widget-view+json": {
       "model_id": "",
       "version_major": 2,
       "version_minor": 0
      },
      "text/plain": [
       "Validation: 0it [00:00, ?it/s]"
      ]
     },
     "metadata": {},
     "output_type": "display_data"
    }
   ],
   "source": [
    "trainer = pl.Trainer(default_root_dir=root_dir_pl,\n",
    "    accelerator=\"gpu\", devices=[0,2,3], strategy='dp',\n",
    "    max_epochs=10,\n",
    "    callbacks=[ModelCheckpoint(dirpath=root_dir_pl, \n",
    "                filename=model_name+'-{epoch}-{val_accuracy:.2f}', \n",
    "                save_weights_only=True, \n",
    "                save_last=True),\n",
    "                LearningRateMonitor(\"epoch\")],\n",
    "    check_val_every_n_epoch=1)\n",
    "\n",
    "trainer.logger._log_graph = True\n",
    "trainer.logger._default_hp_metric = None\n",
    "\n",
    "trainer.fit(model, train_loader, val_loader)"
   ]
  },
  {
   "cell_type": "code",
   "execution_count": null,
   "id": "49bb2bb5-d1d0-43af-b0ca-57f7b67cdbed",
   "metadata": {},
   "outputs": [],
   "source": [
    "next(iter(train_loader))"
   ]
  },
  {
   "cell_type": "code",
   "execution_count": 19,
   "id": "96ac7b8c-5e17-4c3a-abd2-808018ef9b88",
   "metadata": {},
   "outputs": [],
   "source": [
    "mdl_path = '/home/tiurin/projects/ExampleProject/Temp/training/eyeq_model_stn_rot_scal/eyeq_model_stn_rot_scal-epoch=9-val_accuracy=0.90.ckpt'"
   ]
  },
  {
   "cell_type": "code",
   "execution_count": 20,
   "id": "151a325e-d3b4-4d61-a719-bd146a378f50",
   "metadata": {},
   "outputs": [
    {
     "data": {
      "text/plain": [
       "<All keys matched successfully>"
      ]
     },
     "execution_count": 20,
     "metadata": {},
     "output_type": "execute_result"
    }
   ],
   "source": [
    "ckpt = torch.load(mdl_path, map_location=torch.device(\"cpu\"))\n",
    "model.load_state_dict(ckpt['state_dict'])"
   ]
  },
  {
   "cell_type": "code",
   "execution_count": 21,
   "id": "2c5b2a6c-6e60-4415-8d28-1726feefca2c",
   "metadata": {},
   "outputs": [],
   "source": [
    "test_dir = '/home/tiurin/projects/ExampleProject/Temp/test/*'\n",
    "from glob import glob\n",
    "import cv2"
   ]
  },
  {
   "cell_type": "code",
   "execution_count": 24,
   "id": "a5b3ec2e-fc96-47a3-bb3d-1b1f11b7fb85",
   "metadata": {},
   "outputs": [],
   "source": [
    "import matplotlib.pyplot as plt"
   ]
  },
  {
   "cell_type": "code",
   "execution_count": 32,
   "id": "449dfb9b-9640-4718-804e-036facf9b5a3",
   "metadata": {},
   "outputs": [
    {
     "name": "stdout",
     "output_type": "stream",
     "text": [
      "/home/tiurin/projects/ExampleProject/Temp/test/merged_20.png tensor([2])\n",
      "/home/tiurin/projects/ExampleProject/Temp/test/merged_19.png tensor([2])\n",
      "/home/tiurin/projects/ExampleProject/Temp/test/merged_21.png tensor([2])\n",
      "/home/tiurin/projects/ExampleProject/Temp/test/photo_2022-12-06_22-17-06.jpg tensor([1])\n",
      "/home/tiurin/projects/ExampleProject/Temp/test/photo_2022-12-06_22-20-12.jpg tensor([2])\n",
      "/home/tiurin/projects/ExampleProject/Temp/test/merged_0.png tensor([2])\n",
      "/home/tiurin/projects/ExampleProject/Temp/test/merged_1.png tensor([2])\n",
      "/home/tiurin/projects/ExampleProject/Temp/test/merged_2.png tensor([2])\n",
      "/home/tiurin/projects/ExampleProject/Temp/test/merged_3.png tensor([2])\n",
      "/home/tiurin/projects/ExampleProject/Temp/test/merged_4.png tensor([2])\n",
      "/home/tiurin/projects/ExampleProject/Temp/test/merged_5.png tensor([2])\n",
      "/home/tiurin/projects/ExampleProject/Temp/test/merged_6.png tensor([2])\n",
      "/home/tiurin/projects/ExampleProject/Temp/test/merged_7.png tensor([2])\n",
      "/home/tiurin/projects/ExampleProject/Temp/test/merged_8.png tensor([2])\n",
      "/home/tiurin/projects/ExampleProject/Temp/test/merged_9.png tensor([2])\n",
      "/home/tiurin/projects/ExampleProject/Temp/test/merged_10.png tensor([2])\n",
      "/home/tiurin/projects/ExampleProject/Temp/test/merged_11.png tensor([2])\n",
      "/home/tiurin/projects/ExampleProject/Temp/test/merged_12.png tensor([2])\n",
      "/home/tiurin/projects/ExampleProject/Temp/test/merged_13.png tensor([2])\n",
      "/home/tiurin/projects/ExampleProject/Temp/test/merged_14.png tensor([2])\n",
      "/home/tiurin/projects/ExampleProject/Temp/test/merged_15.png tensor([2])\n",
      "/home/tiurin/projects/ExampleProject/Temp/test/merged_16.png tensor([2])\n",
      "/home/tiurin/projects/ExampleProject/Temp/test/merged_17.png tensor([2])\n",
      "/home/tiurin/projects/ExampleProject/Temp/test/merged_18.png tensor([2])\n"
     ]
    }
   ],
   "source": [
    "for im_pth in glob(test_dir):\n",
    "    img = cv2.imread(im_pth)\n",
    "    grayImage = cv2.cvtColor(img, cv2.COLOR_BGR2GRAY)\n",
    "    gray_tensor = dataset_utils.convert_for_predict(grayImage).unsqueeze(0)\n",
    "    print(im_pth, model.predict(gray_tensor))"
   ]
  },
  {
   "cell_type": "code",
   "execution_count": 30,
   "id": "762af5dc-6d2f-466d-ac69-a367ec121bb2",
   "metadata": {},
   "outputs": [
    {
     "data": {
      "text/plain": [
       "<matplotlib.image.AxesImage at 0x7fe1a37cba30>"
      ]
     },
     "execution_count": 30,
     "metadata": {},
     "output_type": "execute_result"
    },
    {
     "data": {
      "image/png": "[encoded data removed]",
      "text/plain": [
       "<Figure size 640x480 with 1 Axes>"
      ]
     },
     "metadata": {},
     "output_type": "display_data"
    }
   ],
   "source": [
    "plt.imshow(grayImage, cmap='gray')"
   ]
  },
  {
   "cell_type": "code",
   "execution_count": 31,
   "id": "babfd6b4-9176-4946-961d-bae4a130ee30",
   "metadata": {},
   "outputs": [
    {
     "data": {
      "text/plain": [
       "tensor([2])"
      ]
     },
     "execution_count": 31,
     "metadata": {},
     "output_type": "execute_result"
    }
   ],
   "source": []
  },
  {
   "cell_type": "code",
   "execution_count": null,
   "id": "bcc69ea8-9c08-4556-83a0-89c858cc7e37",
   "metadata": {},
   "outputs": [],
   "source": []
  },
  {
   "cell_type": "code",
   "execution_count": 82,
   "id": "a873496e-fb9d-4f0e-828a-4f4d47d628b0",
   "metadata": {},
   "outputs": [
    {
     "data": {
      "text/plain": [
       "1"
      ]
     },
     "execution_count": 82,
     "metadata": {},
     "output_type": "execute_result"
    }
   ],
   "source": [
    "s = val_set[1000]\n",
    "s[0]"
   ]
  },
  {
   "cell_type": "code",
   "execution_count": 83,
   "id": "761a358e-e61a-428c-9a23-2078bf5ed7b1",
   "metadata": {},
   "outputs": [
    {
     "data": {
      "text/plain": [
       "<matplotlib.image.AxesImage at 0x7fcf252a46a0>"
      ]
     },
     "execution_count": 83,
     "metadata": {},
     "output_type": "execute_result"
    },
    {
     "data": {
      "image/png": "[encoded data removed]",
      "text/plain": [
       "<Figure size 640x480 with 1 Axes>"
      ]
     },
     "metadata": {},
     "output_type": "display_data"
    }
   ],
   "source": [
    "plt.imshow(dataset_utils.prepare_for_vis(s[1]))"
   ]
  },
  {
   "cell_type": "code",
   "execution_count": 84,
   "id": "716f0f46-6e51-4d36-9862-2ffcf41d8662",
   "metadata": {},
   "outputs": [
    {
     "name": "stderr",
     "output_type": "stream",
     "text": [
      "/home/tiurin/anaconda3/envs/mri_gpu/lib/python3.10/site-packages/torch/nn/functional.py:4227: UserWarning: Default grid_sample and affine_grid behavior has changed to align_corners=False since 1.3.0. Please specify align_corners=True if the old behavior is desired. See the documentation of grid_sample for details.\n",
      "  warnings.warn(\n"
     ]
    },
    {
     "data": {
      "text/plain": [
       "tensor([[ 1.2861, -1.5921]], device='cuda:0', grad_fn=<AddmmBackward0>)"
      ]
     },
     "execution_count": 84,
     "metadata": {},
     "output_type": "execute_result"
    }
   ],
   "source": [
    "model.forward(s[1].unsqueeze(0).to(device))"
   ]
  },
  {
   "cell_type": "code",
   "execution_count": 69,
   "id": "1578d8ae-0b42-4bd5-8573-21a4926ab85a",
   "metadata": {},
   "outputs": [
    {
     "data": {
      "text/plain": [
       "tensor([[0.7835, 0.1691]], device='cuda:0', grad_fn=<SigmoidBackward0>)"
      ]
     },
     "execution_count": 69,
     "metadata": {},
     "output_type": "execute_result"
    }
   ],
   "source": [
    "torch.sigmoid)"
   ]
  },
  {
   "cell_type": "code",
   "execution_count": null,
   "id": "ea0ec92a-bcd5-4726-a828-94abb6d4ebd4",
   "metadata": {},
   "outputs": [],
   "source": []
  }
 ],
 "metadata": {
  "accelerator": "GPU",
  "colab": {
   "provenance": []
  },
  "gpuClass": "standard",
  "kernelspec": {
   "display_name": "Python [conda env:mri_gpu] *",
   "language": "python",
   "name": "conda-env-mri_gpu-py"
  },
  "language_info": {
   "codemirror_mode": {
    "name": "ipython",
    "version": 3
   },
   "file_extension": ".py",
   "mimetype": "text/x-python",
   "name": "python",
   "nbconvert_exporter": "python",
   "pygments_lexer": "ipython3",
   "version": "3.10.8"
  },
  "widgets": {
   "application/vnd.jupyter.widget-state+json": {
    "0d1198dc6fad45c38837918416b1a74a": {
     "model_module": "@jupyter-widgets/controls",
     "model_module_version": "1.5.0",
     "model_name": "DescriptionStyleModel",
     "state": {
      "_model_module": "@jupyter-widgets/controls",
      "_model_module_version": "1.5.0",
      "_model_name": "DescriptionStyleModel",
      "_view_count": null,
      "_view_module": "@jupyter-widgets/base",
      "_view_module_version": "1.2.0",
      "_view_name": "StyleView",
      "description_width": ""
     }
    },
    "115336805748496fb96e856e2dc3188c": {
     "model_module": "@jupyter-widgets/base",
     "model_module_version": "1.2.0",
     "model_name": "LayoutModel",
     "state": {
      "_model_module": "@jupyter-widgets/base",
      "_model_module_version": "1.2.0",
      "_model_name": "LayoutModel",
      "_view_count": null,
      "_view_module": "@jupyter-widgets/base",
      "_view_module_version": "1.2.0",
      "_view_name": "LayoutView",
      "align_content": null,
      "align_items": null,
      "align_self": null,
      "border": null,
      "bottom": null,
      "display": null,
      "flex": null,
      "flex_flow": null,
      "grid_area": null,
      "grid_auto_columns": null,
      "grid_auto_flow": null,
      "grid_auto_rows": null,
      "grid_column": null,
      "grid_gap": null,
      "grid_row": null,
      "grid_template_areas": null,
      "grid_template_columns": null,
      "grid_template_rows": null,
      "height": null,
      "justify_content": null,
      "justify_items": null,
      "left": null,
      "margin": null,
      "max_height": null,
      "max_width": null,
      "min_height": null,
      "min_width": null,
      "object_fit": null,
      "object_position": null,
      "order": null,
      "overflow": null,
      "overflow_x": null,
      "overflow_y": null,
      "padding": null,
      "right": null,
      "top": null,
      "visibility": null,
      "width": null
     }
    },
    "20d01ef924274818951a05888c582c7e": {
     "model_module": "@jupyter-widgets/controls",
     "model_module_version": "1.5.0",
     "model_name": "DescriptionStyleModel",
     "state": {
      "_model_module": "@jupyter-widgets/controls",
      "_model_module_version": "1.5.0",
      "_model_name": "DescriptionStyleModel",
      "_view_count": null,
      "_view_module": "@jupyter-widgets/base",
      "_view_module_version": "1.2.0",
      "_view_name": "StyleView",
      "description_width": ""
     }
    },
    "2216328177984ad0add9fe87bd805f3f": {
     "model_module": "@jupyter-widgets/base",
     "model_module_version": "1.2.0",
     "model_name": "LayoutModel",
     "state": {
      "_model_module": "@jupyter-widgets/base",
      "_model_module_version": "1.2.0",
      "_model_name": "LayoutModel",
      "_view_count": null,
      "_view_module": "@jupyter-widgets/base",
      "_view_module_version": "1.2.0",
      "_view_name": "LayoutView",
      "align_content": null,
      "align_items": null,
      "align_self": null,
      "border": null,
      "bottom": null,
      "display": "inline-flex",
      "flex": null,
      "flex_flow": "row wrap",
      "grid_area": null,
      "grid_auto_columns": null,
      "grid_auto_flow": null,
      "grid_auto_rows": null,
      "grid_column": null,
      "grid_gap": null,
      "grid_row": null,
      "grid_template_areas": null,
      "grid_template_columns": null,
      "grid_template_rows": null,
      "height": null,
      "justify_content": null,
      "justify_items": null,
      "left": null,
      "margin": null,
      "max_height": null,
      "max_width": null,
      "min_height": null,
      "min_width": null,
      "object_fit": null,
      "object_position": null,
      "order": null,
      "overflow": null,
      "overflow_x": null,
      "overflow_y": null,
      "padding": null,
      "right": null,
      "top": null,
      "visibility": "hidden",
      "width": "100%"
     }
    },
    "2ce9f3de3e414ea4b908f380d1f7cec9": {
     "model_module": "@jupyter-widgets/base",
     "model_module_version": "1.2.0",
     "model_name": "LayoutModel",
     "state": {
      "_model_module": "@jupyter-widgets/base",
      "_model_module_version": "1.2.0",
      "_model_name": "LayoutModel",
      "_view_count": null,
      "_view_module": "@jupyter-widgets/base",
      "_view_module_version": "1.2.0",
      "_view_name": "LayoutView",
      "align_content": null,
      "align_items": null,
      "align_self": null,
      "border": null,
      "bottom": null,
      "display": null,
      "flex": "2",
      "flex_flow": null,
      "grid_area": null,
      "grid_auto_columns": null,
      "grid_auto_flow": null,
      "grid_auto_rows": null,
      "grid_column": null,
      "grid_gap": null,
      "grid_row": null,
      "grid_template_areas": null,
      "grid_template_columns": null,
      "grid_template_rows": null,
      "height": null,
      "justify_content": null,
      "justify_items": null,
      "left": null,
      "margin": null,
      "max_height": null,
      "max_width": null,
      "min_height": null,
      "min_width": null,
      "object_fit": null,
      "object_position": null,
      "order": null,
      "overflow": null,
      "overflow_x": null,
      "overflow_y": null,
      "padding": null,
      "right": null,
      "top": null,
      "visibility": null,
      "width": null
     }
    },
    "2d1e6bcdf56c409890442a7efbd67728": {
     "model_module": "@jupyter-widgets/controls",
     "model_module_version": "1.5.0",
     "model_name": "ProgressStyleModel",
     "state": {
      "_model_module": "@jupyter-widgets/controls",
      "_model_module_version": "1.5.0",
      "_model_name": "ProgressStyleModel",
      "_view_count": null,
      "_view_module": "@jupyter-widgets/base",
      "_view_module_version": "1.2.0",
      "_view_name": "StyleView",
      "bar_color": null,
      "description_width": ""
     }
    },
    "2f915dff2e78451a8eda5b0cdd974ca4": {
     "model_module": "@jupyter-widgets/controls",
     "model_module_version": "1.5.0",
     "model_name": "HTMLModel",
     "state": {
      "_dom_classes": [],
      "_model_module": "@jupyter-widgets/controls",
      "_model_module_version": "1.5.0",
      "_model_name": "HTMLModel",
      "_view_count": null,
      "_view_module": "@jupyter-widgets/controls",
      "_view_module_version": "1.5.0",
      "_view_name": "HTMLView",
      "description": "",
      "description_tooltip": null,
      "layout": "IPY_MODEL_ab962eb41e224e99a11aa17b786b3f53",
      "placeholder": "​",
      "style": "IPY_MODEL_91bff599a8384e1aac3a7ca2afdd42a6",
      "value": " 2/2 [00:04&lt;00:00,  2.39s/it]"
     }
    },
    "35dc1845b46944269c02d23ab7a98069": {
     "model_module": "@jupyter-widgets/controls",
     "model_module_version": "1.5.0",
     "model_name": "FloatProgressModel",
     "state": {
      "_dom_classes": [],
      "_model_module": "@jupyter-widgets/controls",
      "_model_module_version": "1.5.0",
      "_model_name": "FloatProgressModel",
      "_view_count": null,
      "_view_module": "@jupyter-widgets/controls",
      "_view_module_version": "1.5.0",
      "_view_name": "ProgressView",
      "bar_style": "",
      "description": "",
      "description_tooltip": null,
      "layout": "IPY_MODEL_2ce9f3de3e414ea4b908f380d1f7cec9",
      "max": 2,
      "min": 0,
      "orientation": "horizontal",
      "style": "IPY_MODEL_c52014d3baf740bf8abc6d293ec76a0f",
      "value": 2
     }
    },
    "4338c85b2a224c1499fd2f360c84e5cb": {
     "model_module": "@jupyter-widgets/base",
     "model_module_version": "1.2.0",
     "model_name": "LayoutModel",
     "state": {
      "_model_module": "@jupyter-widgets/base",
      "_model_module_version": "1.2.0",
      "_model_name": "LayoutModel",
      "_view_count": null,
      "_view_module": "@jupyter-widgets/base",
      "_view_module_version": "1.2.0",
      "_view_name": "LayoutView",
      "align_content": null,
      "align_items": null,
      "align_self": null,
      "border": null,
      "bottom": null,
      "display": null,
      "flex": null,
      "flex_flow": null,
      "grid_area": null,
      "grid_auto_columns": null,
      "grid_auto_flow": null,
      "grid_auto_rows": null,
      "grid_column": null,
      "grid_gap": null,
      "grid_row": null,
      "grid_template_areas": null,
      "grid_template_columns": null,
      "grid_template_rows": null,
      "height": null,
      "justify_content": null,
      "justify_items": null,
      "left": null,
      "margin": null,
      "max_height": null,
      "max_width": null,
      "min_height": null,
      "min_width": null,
      "object_fit": null,
      "object_position": null,
      "order": null,
      "overflow": null,
      "overflow_x": null,
      "overflow_y": null,
      "padding": null,
      "right": null,
      "top": null,
      "visibility": null,
      "width": null
     }
    },
    "4362cf691be14b1490a93c6441db7366": {
     "model_module": "@jupyter-widgets/controls",
     "model_module_version": "1.5.0",
     "model_name": "HTMLModel",
     "state": {
      "_dom_classes": [],
      "_model_module": "@jupyter-widgets/controls",
      "_model_module_version": "1.5.0",
      "_model_name": "HTMLModel",
      "_view_count": null,
      "_view_module": "@jupyter-widgets/controls",
      "_view_module_version": "1.5.0",
      "_view_name": "HTMLView",
      "description": "",
      "description_tooltip": null,
      "layout": "IPY_MODEL_115336805748496fb96e856e2dc3188c",
      "placeholder": "​",
      "style": "IPY_MODEL_0d1198dc6fad45c38837918416b1a74a",
      "value": "Sanity Checking DataLoader 0: 100%"
     }
    },
    "444792adc43b4c21bbe1615abeaadc79": {
     "model_module": "@jupyter-widgets/base",
     "model_module_version": "1.2.0",
     "model_name": "LayoutModel",
     "state": {
      "_model_module": "@jupyter-widgets/base",
      "_model_module_version": "1.2.0",
      "_model_name": "LayoutModel",
      "_view_count": null,
      "_view_module": "@jupyter-widgets/base",
      "_view_module_version": "1.2.0",
      "_view_name": "LayoutView",
      "align_content": null,
      "align_items": null,
      "align_self": null,
      "border": null,
      "bottom": null,
      "display": "inline-flex",
      "flex": null,
      "flex_flow": "row wrap",
      "grid_area": null,
      "grid_auto_columns": null,
      "grid_auto_flow": null,
      "grid_auto_rows": null,
      "grid_column": null,
      "grid_gap": null,
      "grid_row": null,
      "grid_template_areas": null,
      "grid_template_columns": null,
      "grid_template_rows": null,
      "height": null,
      "justify_content": null,
      "justify_items": null,
      "left": null,
      "margin": null,
      "max_height": null,
      "max_width": null,
      "min_height": null,
      "min_width": null,
      "object_fit": null,
      "object_position": null,
      "order": null,
      "overflow": null,
      "overflow_x": null,
      "overflow_y": null,
      "padding": null,
      "right": null,
      "top": null,
      "visibility": null,
      "width": "100%"
     }
    },
    "57066c4596434ca6a264cea47b081994": {
     "model_module": "@jupyter-widgets/controls",
     "model_module_version": "1.5.0",
     "model_name": "DescriptionStyleModel",
     "state": {
      "_model_module": "@jupyter-widgets/controls",
      "_model_module_version": "1.5.0",
      "_model_name": "DescriptionStyleModel",
      "_view_count": null,
      "_view_module": "@jupyter-widgets/base",
      "_view_module_version": "1.2.0",
      "_view_name": "StyleView",
      "description_width": ""
     }
    },
    "7e073151707c48c0a7efcba939ba2607": {
     "model_module": "@jupyter-widgets/controls",
     "model_module_version": "1.5.0",
     "model_name": "FloatProgressModel",
     "state": {
      "_dom_classes": [],
      "_model_module": "@jupyter-widgets/controls",
      "_model_module_version": "1.5.0",
      "_model_name": "FloatProgressModel",
      "_view_count": null,
      "_view_module": "@jupyter-widgets/controls",
      "_view_module_version": "1.5.0",
      "_view_name": "ProgressView",
      "bar_style": "",
      "description": "",
      "description_tooltip": null,
      "layout": "IPY_MODEL_a694a34518b844c2a0a21de63f69c76a",
      "max": 1799,
      "min": 0,
      "orientation": "horizontal",
      "style": "IPY_MODEL_2d1e6bcdf56c409890442a7efbd67728",
      "value": 8
     }
    },
    "7f8f7b34dfa3457cbdea68ef1d9a2f02": {
     "model_module": "@jupyter-widgets/controls",
     "model_module_version": "1.5.0",
     "model_name": "HTMLModel",
     "state": {
      "_dom_classes": [],
      "_model_module": "@jupyter-widgets/controls",
      "_model_module_version": "1.5.0",
      "_model_name": "HTMLModel",
      "_view_count": null,
      "_view_module": "@jupyter-widgets/controls",
      "_view_module_version": "1.5.0",
      "_view_name": "HTMLView",
      "description": "",
      "description_tooltip": null,
      "layout": "IPY_MODEL_4338c85b2a224c1499fd2f360c84e5cb",
      "placeholder": "​",
      "style": "IPY_MODEL_20d01ef924274818951a05888c582c7e",
      "value": "Epoch 0:   0%"
     }
    },
    "91bff599a8384e1aac3a7ca2afdd42a6": {
     "model_module": "@jupyter-widgets/controls",
     "model_module_version": "1.5.0",
     "model_name": "DescriptionStyleModel",
     "state": {
      "_model_module": "@jupyter-widgets/controls",
      "_model_module_version": "1.5.0",
      "_model_name": "DescriptionStyleModel",
      "_view_count": null,
      "_view_module": "@jupyter-widgets/base",
      "_view_module_version": "1.2.0",
      "_view_name": "StyleView",
      "description_width": ""
     }
    },
    "944f421589c34b188877893b3d2a998e": {
     "model_module": "@jupyter-widgets/controls",
     "model_module_version": "1.5.0",
     "model_name": "HBoxModel",
     "state": {
      "_dom_classes": [],
      "_model_module": "@jupyter-widgets/controls",
      "_model_module_version": "1.5.0",
      "_model_name": "HBoxModel",
      "_view_count": null,
      "_view_module": "@jupyter-widgets/controls",
      "_view_module_version": "1.5.0",
      "_view_name": "HBoxView",
      "box_style": "",
      "children": [
       "IPY_MODEL_4362cf691be14b1490a93c6441db7366",
       "IPY_MODEL_35dc1845b46944269c02d23ab7a98069",
       "IPY_MODEL_2f915dff2e78451a8eda5b0cdd974ca4"
      ],
      "layout": "IPY_MODEL_2216328177984ad0add9fe87bd805f3f"
     }
    },
    "9b0ecc3c886847fd80f35070649156ab": {
     "model_module": "@jupyter-widgets/base",
     "model_module_version": "1.2.0",
     "model_name": "LayoutModel",
     "state": {
      "_model_module": "@jupyter-widgets/base",
      "_model_module_version": "1.2.0",
      "_model_name": "LayoutModel",
      "_view_count": null,
      "_view_module": "@jupyter-widgets/base",
      "_view_module_version": "1.2.0",
      "_view_name": "LayoutView",
      "align_content": null,
      "align_items": null,
      "align_self": null,
      "border": null,
      "bottom": null,
      "display": null,
      "flex": null,
      "flex_flow": null,
      "grid_area": null,
      "grid_auto_columns": null,
      "grid_auto_flow": null,
      "grid_auto_rows": null,
      "grid_column": null,
      "grid_gap": null,
      "grid_row": null,
      "grid_template_areas": null,
      "grid_template_columns": null,
      "grid_template_rows": null,
      "height": null,
      "justify_content": null,
      "justify_items": null,
      "left": null,
      "margin": null,
      "max_height": null,
      "max_width": null,
      "min_height": null,
      "min_width": null,
      "object_fit": null,
      "object_position": null,
      "order": null,
      "overflow": null,
      "overflow_x": null,
      "overflow_y": null,
      "padding": null,
      "right": null,
      "top": null,
      "visibility": null,
      "width": null
     }
    },
    "a694a34518b844c2a0a21de63f69c76a": {
     "model_module": "@jupyter-widgets/base",
     "model_module_version": "1.2.0",
     "model_name": "LayoutModel",
     "state": {
      "_model_module": "@jupyter-widgets/base",
      "_model_module_version": "1.2.0",
      "_model_name": "LayoutModel",
      "_view_count": null,
      "_view_module": "@jupyter-widgets/base",
      "_view_module_version": "1.2.0",
      "_view_name": "LayoutView",
      "align_content": null,
      "align_items": null,
      "align_self": null,
      "border": null,
      "bottom": null,
      "display": null,
      "flex": "2",
      "flex_flow": null,
      "grid_area": null,
      "grid_auto_columns": null,
      "grid_auto_flow": null,
      "grid_auto_rows": null,
      "grid_column": null,
      "grid_gap": null,
      "grid_row": null,
      "grid_template_areas": null,
      "grid_template_columns": null,
      "grid_template_rows": null,
      "height": null,
      "justify_content": null,
      "justify_items": null,
      "left": null,
      "margin": null,
      "max_height": null,
      "max_width": null,
      "min_height": null,
      "min_width": null,
      "object_fit": null,
      "object_position": null,
      "order": null,
      "overflow": null,
      "overflow_x": null,
      "overflow_y": null,
      "padding": null,
      "right": null,
      "top": null,
      "visibility": null,
      "width": null
     }
    },
    "ab962eb41e224e99a11aa17b786b3f53": {
     "model_module": "@jupyter-widgets/base",
     "model_module_version": "1.2.0",
     "model_name": "LayoutModel",
     "state": {
      "_model_module": "@jupyter-widgets/base",
      "_model_module_version": "1.2.0",
      "_model_name": "LayoutModel",
      "_view_count": null,
      "_view_module": "@jupyter-widgets/base",
      "_view_module_version": "1.2.0",
      "_view_name": "LayoutView",
      "align_content": null,
      "align_items": null,
      "align_self": null,
      "border": null,
      "bottom": null,
      "display": null,
      "flex": null,
      "flex_flow": null,
      "grid_area": null,
      "grid_auto_columns": null,
      "grid_auto_flow": null,
      "grid_auto_rows": null,
      "grid_column": null,
      "grid_gap": null,
      "grid_row": null,
      "grid_template_areas": null,
      "grid_template_columns": null,
      "grid_template_rows": null,
      "height": null,
      "justify_content": null,
      "justify_items": null,
      "left": null,
      "margin": null,
      "max_height": null,
      "max_width": null,
      "min_height": null,
      "min_width": null,
      "object_fit": null,
      "object_position": null,
      "order": null,
      "overflow": null,
      "overflow_x": null,
      "overflow_y": null,
      "padding": null,
      "right": null,
      "top": null,
      "visibility": null,
      "width": null
     }
    },
    "c52014d3baf740bf8abc6d293ec76a0f": {
     "model_module": "@jupyter-widgets/controls",
     "model_module_version": "1.5.0",
     "model_name": "ProgressStyleModel",
     "state": {
      "_model_module": "@jupyter-widgets/controls",
      "_model_module_version": "1.5.0",
      "_model_name": "ProgressStyleModel",
      "_view_count": null,
      "_view_module": "@jupyter-widgets/base",
      "_view_module_version": "1.2.0",
      "_view_name": "StyleView",
      "bar_color": null,
      "description_width": ""
     }
    },
    "d3e8897060154117a7fae42d0ce6f7d0": {
     "model_module": "@jupyter-widgets/controls",
     "model_module_version": "1.5.0",
     "model_name": "HTMLModel",
     "state": {
      "_dom_classes": [],
      "_model_module": "@jupyter-widgets/controls",
      "_model_module_version": "1.5.0",
      "_model_name": "HTMLModel",
      "_view_count": null,
      "_view_module": "@jupyter-widgets/controls",
      "_view_module_version": "1.5.0",
      "_view_name": "HTMLView",
      "description": "",
      "description_tooltip": null,
      "layout": "IPY_MODEL_9b0ecc3c886847fd80f35070649156ab",
      "placeholder": "​",
      "style": "IPY_MODEL_57066c4596434ca6a264cea47b081994",
      "value": " 8/1799 [00:37&lt;2:18:25,  4.64s/it, loss=1.1, v_num=4]"
     }
    },
    "e3a36920190e4a83aafcbc5ee7a9e9db": {
     "model_module": "@jupyter-widgets/controls",
     "model_module_version": "1.5.0",
     "model_name": "HBoxModel",
     "state": {
      "_dom_classes": [],
      "_model_module": "@jupyter-widgets/controls",
      "_model_module_version": "1.5.0",
      "_model_name": "HBoxModel",
      "_view_count": null,
      "_view_module": "@jupyter-widgets/controls",
      "_view_module_version": "1.5.0",
      "_view_name": "HBoxView",
      "box_style": "",
      "children": [
       "IPY_MODEL_7f8f7b34dfa3457cbdea68ef1d9a2f02",
       "IPY_MODEL_7e073151707c48c0a7efcba939ba2607",
       "IPY_MODEL_d3e8897060154117a7fae42d0ce6f7d0"
      ],
      "layout": "IPY_MODEL_444792adc43b4c21bbe1615abeaadc79"
     }
    }
   }
  }
 },
 "nbformat": 4,
 "nbformat_minor": 5
}
