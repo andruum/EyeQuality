{
 "cells": [
  {
   "cell_type": "code",
   "execution_count": 2,
   "id": "bd633872-e870-4a00-98b3-c7e6f11098a4",
   "metadata": {},
   "outputs": [],
   "source": [
    "from scipy import optimize"
   ]
  },
  {
   "cell_type": "code",
   "execution_count": 101,
   "id": "cc77a4e0-d613-40fd-a0d7-fcaa308427e2",
   "metadata": {},
   "outputs": [],
   "source": [
    "xc, yc = 101, 101"
   ]
  },
  {
   "cell_type": "code",
   "execution_count": 102,
   "id": "5c807b21-e6f8-43b6-862c-da06f1976ab7",
   "metadata": {},
   "outputs": [],
   "source": [
    "import math"
   ]
  },
  {
   "cell_type": "code",
   "execution_count": 103,
   "id": "a47fba97-c823-4717-b903-c9a45486b951",
   "metadata": {},
   "outputs": [],
   "source": [
    "def parabola(X, theta, p, xc, yc):\n",
    "    x,y = X\n",
    "    res = ((x-xc)*math.sin(theta)+(y-yc)*math.cos(theta))**2-2*p*((x-xc)*math.cos(theta)-(y-yc)*math.sin(theta))\n",
    "    return res"
   ]
  },
  {
   "cell_type": "code",
   "execution_count": 104,
   "id": "d5f8bfaa-bb11-4277-9174-42a0afa3739f",
   "metadata": {},
   "outputs": [],
   "source": [
    "import numpy as np"
   ]
  },
  {
   "cell_type": "code",
   "execution_count": 105,
   "id": "5cb56105-c6e3-4b07-b056-5b2041ada480",
   "metadata": {},
   "outputs": [],
   "source": [
    "val=np.asarray([0, 0, 0, 0])"
   ]
  },
  {
   "cell_type": "code",
   "execution_count": 106,
   "id": "fa84bc37-1bc5-4682-b463-a132de2220cf",
   "metadata": {},
   "outputs": [],
   "source": [
    "x=np.asarray([xc+10,xc-10,xc+5,xc-5])"
   ]
  },
  {
   "cell_type": "code",
   "execution_count": 110,
   "id": "6a046105-1980-451e-a1f2-0aa5d2730acc",
   "metadata": {},
   "outputs": [],
   "source": [
    "y=np.asarray([yc+100-1,yc+100-1, yc+25-1,yc+25-1])"
   ]
  },
  {
   "cell_type": "code",
   "execution_count": 111,
   "id": "5c8c900c-a44e-4d76-a451-4508509b8e9c",
   "metadata": {},
   "outputs": [],
   "source": [
    "param, param_cov = optimize.curve_fit(parabola, (x,y) , val)"
   ]
  },
  {
   "cell_type": "code",
   "execution_count": 112,
   "id": "def7fdb7-aea9-46db-bcf0-f53de7ebf936",
   "metadata": {},
   "outputs": [
    {
     "data": {
      "text/plain": [
       "array([  1.57079633,  -0.5       , 101.        , 100.        ])"
      ]
     },
     "execution_count": 112,
     "metadata": {},
     "output_type": "execute_result"
    }
   ],
   "source": [
    "param"
   ]
  },
  {
   "cell_type": "code",
   "execution_count": 56,
   "id": "f8a41273-2c1a-4f5e-b5de-ed64c9626a4d",
   "metadata": {},
   "outputs": [
    {
     "name": "stdout",
     "output_type": "stream",
     "text": [
      "(array([10.02394467,  3.99841329,  6.00339373]), array([[ 1.84980253e-03,  9.83944108e-05, -3.05429472e-04],\n",
      "       [ 9.83944108e-05,  5.34570676e-06, -1.61648158e-05],\n",
      "       [-3.05429472e-04, -1.61648158e-05,  5.09217982e-05]]))\n"
     ]
    }
   ],
   "source": [
    "import numpy as np\n",
    "from scipy.optimize import curve_fit\n",
    "\n",
    "def func(X, a, b, c):\n",
    "    x,y = X\n",
    "    return np.log(a) + b*np.log(x) + c*np.log(y)\n",
    "\n",
    "# some artificially noisy data to fit\n",
    "x = np.linspace(0.1,1.1,101)\n",
    "y = np.linspace(1.,2., 101)\n",
    "a, b, c = 10., 4., 6.\n",
    "z = func((x,y), a, b, c) * 1 + np.random.random(101) / 100\n",
    "\n",
    "# initial guesses for a,b,c:\n",
    "p0 = 8., 2., 7.\n",
    "print(curve_fit(func, (x,y), z, p0))"
   ]
  },
  {
   "cell_type": "code",
   "execution_count": 57,
   "id": "0af52559-f7f4-4b0d-9a3e-2b60615b677d",
   "metadata": {},
   "outputs": [
    {
     "data": {
      "text/plain": [
       "array([-6.9058126 , -6.46151851, -6.0498586 , -5.67372459, -5.31685414,\n",
       "       -4.98439357, -4.67372569, -4.3786909 , -4.08896214, -3.8147192 ,\n",
       "       -3.56087781, -3.3137033 , -3.06866558, -2.83865141, -2.61569701,\n",
       "       -2.39730677, -2.19413259, -1.98765324, -1.79373484, -1.5962426 ,\n",
       "       -1.41397196, -1.22987215, -1.05410325, -0.88619286, -0.71435321,\n",
       "       -0.5577467 , -0.38873309, -0.23789927, -0.08321591,  0.0688568 ,\n",
       "        0.22030626,  0.35795161,  0.50157546,  0.64352064,  0.77684544,\n",
       "        0.91637854,  1.04695214,  1.17880083,  1.30348145,  1.42696181,\n",
       "        1.55095124,  1.6787415 ,  1.79832259,  1.91001724,  2.03002995,\n",
       "        2.15049192,  2.26115086,  2.36683817,  2.48424136,  2.58946944,\n",
       "        2.70042501,  2.79911077,  2.90327795,  3.0107657 ,  3.11040055,\n",
       "        3.21435175,  3.31062876,  3.40822033,  3.50740413,  3.60496778,\n",
       "        3.69900189,  3.79062678,  3.88576624,  3.98386236,  4.06671601,\n",
       "        4.15676588,  4.25121927,  4.34109784,  4.42869982,  4.51416107,\n",
       "        4.59378998,  4.68607101,  4.77166986,  4.85414964,  4.93069208,\n",
       "        5.01352817,  5.09538703,  5.17684061,  5.25984229,  5.33651162,\n",
       "        5.41025401,  5.49023596,  5.56682411,  5.64712377,  5.71904196,\n",
       "        5.79480954,  5.86731347,  5.94024009,  6.01788398,  6.08260375,\n",
       "        6.158405  ,  6.22785003,  6.29916837,  6.37583261,  6.43844083,\n",
       "        6.50850917,  6.58252085,  6.64303139,  6.7108855 ,  6.77744311,\n",
       "        6.84554017])"
      ]
     },
     "execution_count": 57,
     "metadata": {},
     "output_type": "execute_result"
    }
   ],
   "source": [
    "z"
   ]
  },
  {
   "cell_type": "code",
   "execution_count": null,
   "id": "d0d991f7-e63d-4c96-a315-4c6bf033b753",
   "metadata": {},
   "outputs": [],
   "source": [
    "def calc_R(p, yc):\n",
    "    \"\"\" calculate the distance of each 2D points from the center (xc, yc) \"\"\"\n",
    "    return sqrt((x-xc)**2 + (y-yc)**2)\n",
    "\n",
    "def f_2(c):\n",
    "    \"\"\" calculate the algebraic distance between the data points and the mean circle centered at c=(xc, yc) \"\"\"\n",
    "    Ri = calc_R(*c)\n",
    "    return Ri - Ri.mean()\n",
    "\n",
    "center_estimate = x_m, y_m\n",
    "center_2, ier = optimize.leastsq(f_2, center_estimate)\n",
    "\n",
    "xc_2, yc_2 = center_2\n",
    "Ri_2       = calc_R(*center_2)\n",
    "R_2        = Ri_2.mean()\n",
    "residu_2   = sum((Ri_2 - R_2)**2)"
   ]
  }
 ],
 "metadata": {
  "kernelspec": {
   "display_name": "Python [conda env:mri_gpu] *",
   "language": "python",
   "name": "conda-env-mri_gpu-py"
  },
  "language_info": {
   "codemirror_mode": {
    "name": "ipython",
    "version": 3
   },
   "file_extension": ".py",
   "mimetype": "text/x-python",
   "name": "python",
   "nbconvert_exporter": "python",
   "pygments_lexer": "ipython3",
   "version": "3.10.8"
  }
 },
 "nbformat": 4,
 "nbformat_minor": 5
}
