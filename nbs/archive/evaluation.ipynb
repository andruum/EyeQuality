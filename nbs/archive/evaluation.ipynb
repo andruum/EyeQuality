{
 "cells": [
  {
   "cell_type": "code",
   "execution_count": 1,
   "id": "0f9a9e79-45dc-4c35-b9ac-cb8da52cea50",
   "metadata": {},
   "outputs": [],
   "source": [
    "%reload_ext autoreload\n",
    "%autoreload 2"
   ]
  },
  {
   "cell_type": "code",
   "execution_count": 2,
   "id": "70b32dd2-1d6c-4eca-8c8d-487214cfb6f8",
   "metadata": {},
   "outputs": [],
   "source": [
    "import sys\n",
    "sys.path.append('/home/tiurin/projects/ExampleProject/Temp/code/eye_quality/')"
   ]
  },
  {
   "cell_type": "code",
   "execution_count": 76,
   "id": "1089586e-c8cd-41f5-a3fd-dd6a2106c204",
   "metadata": {},
   "outputs": [],
   "source": [
    "#|export\n",
    "def get_confusion_matrix(predictions, targets):\n",
    "    confusion_mat = np.zeros((3, 3), dtype=int)\n",
    "    \n",
    "    for i in range(targets.shape[0]):\n",
    "        confusion_mat[targets[i], predictions[i]] += 1\n",
    "    return confusion_mat"
   ]
  },
  {
   "cell_type": "code",
   "execution_count": 77,
   "id": "38ac6b06-f44f-4304-a73c-bb61fde52062",
   "metadata": {},
   "outputs": [],
   "source": [
    "#|export\n",
    "import numpy as np\n",
    "import dataset_utils\n",
    "def get_confusion_matrix_image(model, dataloader, device):\n",
    "    confusion_mat = np.zeros((3, 3), dtype=int)\n",
    "    model = model.to(device)\n",
    "\n",
    "    confusion_images = [[None, None, None] for i in range(3)]\n",
    "\n",
    "    for batch in dataloader:\n",
    "        classes, imgs = batch\n",
    "        imgs = imgs.to(device)\n",
    "        res = model.predict(imgs)\n",
    "\n",
    "        for i in range(classes.shape[0]):\n",
    "            confusion_mat[classes[i], res[i]] += 1\n",
    "            if confusion_images[classes[i]][res[i]] is None:\n",
    "                confusion_images[classes[i]][res[i]] = dataset_utils.convert_to_image(imgs[i])\n",
    "    return confusion_mat, confusion_images"
   ]
  },
  {
   "cell_type": "code",
   "execution_count": 70,
   "id": "17670806-bad7-493f-bbd5-4055ecba5e4b",
   "metadata": {},
   "outputs": [],
   "source": [
    "#|export\n",
    "import matplotlib.pyplot as plt\n",
    "import itertools\n",
    "def plot_confusion_matrix(cm, class_names, normalize=False):\n",
    "    \"\"\"\n",
    "    Returns a matplotlib figure containing the plotted confusion matrix.\n",
    "    \n",
    "    Args:\n",
    "       cm (array, shape = [n, n]): a confusion matrix of integer classes\n",
    "       class_names (array, shape = [n]): String names of the integer classes\n",
    "    \"\"\"\n",
    "    #plt.ioff()\n",
    "    figure = plt.figure(figsize=(8, 8))\n",
    "    plt.imshow(cm, interpolation='nearest', cmap=plt.cm.Blues)\n",
    "    plt.title(\"Confusion matrix\")\n",
    "    plt.colorbar()\n",
    "    tick_marks = np.arange(len(class_names))\n",
    "    plt.xticks(tick_marks, class_names, rotation=45)\n",
    "    plt.yticks(tick_marks, class_names)\n",
    "    \n",
    "    # Normalize the confusion matrix.\n",
    "    if normalize:\n",
    "        cm = np.around(cm.astype('float') / cm.sum(axis=1)[:, np.newaxis], decimals=2)\n",
    "    \n",
    "    # Use white text if squares are dark; otherwise black.\n",
    "    threshold = cm.max() / 2.\n",
    "    \n",
    "    for i, j in itertools.product(range(cm.shape[0]), range(cm.shape[1])):\n",
    "        color = \"white\" if cm[i, j] > threshold else \"black\"\n",
    "        plt.text(j, i, cm[i, j], horizontalalignment=\"center\", color=color)\n",
    "        \n",
    "    plt.tight_layout()\n",
    "    plt.ylabel('True label')\n",
    "    plt.xlabel('Predicted label')\n",
    "    #plt.ion()\n",
    "    return figure"
   ]
  },
  {
   "cell_type": "code",
   "execution_count": 71,
   "id": "807b09a5-2353-4136-a339-e81e1f0bddd2",
   "metadata": {},
   "outputs": [],
   "source": [
    "#|export\n",
    "import io\n",
    "def plot_to_image(figure):\n",
    "    \"\"\"\n",
    "    Converts the matplotlib plot specified by 'figure' to a PNG image and\n",
    "    returns it. The supplied figure is closed and inaccessible after this call.\n",
    "    \"\"\"\n",
    "    plt.close(figure)\n",
    "    figure.canvas.draw()\n",
    "    image = np.frombuffer(figure.canvas.tostring_rgb(), dtype=np.uint8)\n",
    "    image = image.reshape(figure.canvas.get_width_height()[::-1] + (3,))\n",
    "    image = image.transpose(2,0,1)\n",
    "    \n",
    "    return image"
   ]
  },
  {
   "cell_type": "code",
   "execution_count": 50,
   "id": "738f6a15-132b-47d2-a026-ee5b6ce7ec09",
   "metadata": {},
   "outputs": [],
   "source": [
    "#|export\n",
    "def precision(confusionMat):\n",
    "    nbClasses = confusionMat.shape[0]\n",
    "    averagePrecision = 0\n",
    "\n",
    "    for idx in range(nbClasses):\n",
    "        averagePrecision += confusionMat[idx,idx]/np.sum(confusionMat[:,idx])\n",
    "    averagePrecision /= nbClasses\n",
    "    \n",
    "    return averagePrecision"
   ]
  },
  {
   "cell_type": "code",
   "execution_count": 51,
   "id": "588ea6e3-e3b4-47fc-aeff-8d11bfed1935",
   "metadata": {},
   "outputs": [],
   "source": [
    "#|export\n",
    "def recall(confusionMat):\n",
    "    nbClasses = confusionMat.shape[0]\n",
    "    averageRecall = 0\n",
    "\n",
    "    for idx in range(nbClasses):\n",
    "        averageRecall += confusionMat[idx,idx]/np.sum(confusionMat[idx,:])\n",
    "    averageRecall /= nbClasses\n",
    "\n",
    "    return averageRecall"
   ]
  },
  {
   "cell_type": "code",
   "execution_count": 52,
   "id": "1d9b41a5-f105-4963-ace4-f194bad5b3cb",
   "metadata": {},
   "outputs": [],
   "source": [
    "#|export\n",
    "def accuracy(confusion_mat):\n",
    "    accuracy = confusion_mat.trace()/confusion_mat.sum()\n",
    "    return accuracy"
   ]
  },
  {
   "cell_type": "code",
   "execution_count": 53,
   "id": "7003153c-1091-41b4-b3ca-1e021dc7a9d0",
   "metadata": {},
   "outputs": [],
   "source": [
    "#|export\n",
    "def f1_score(confusion_mat):\n",
    "    precision_val = precision(confusion_mat)\n",
    "    recall_val = recall(confusion_mat)\n",
    "    f1_score = 2*(precision_val*recall_val)/(precision_val+recall_val)\n",
    "    return f1_score"
   ]
  },
  {
   "cell_type": "code",
   "execution_count": 54,
   "id": "35bee324-3393-46b0-a163-9300afd92657",
   "metadata": {},
   "outputs": [],
   "source": [
    "#|export\n",
    "def class_accuracy(confusion_mat, class_num):\n",
    "    return confusion_mat[class_num, class_num]/confusion_mat[class_num,:].sum()"
   ]
  },
  {
   "cell_type": "code",
   "execution_count": 74,
   "id": "3355c3fa-acc1-4f75-a425-4f14ae602531",
   "metadata": {},
   "outputs": [],
   "source": [
    "#|export\n",
    "import torch\n",
    "import torchvision\n",
    "import math\n",
    "def make_image_grid(imgs, row_size=3):\n",
    "    num_imgs = imgs.shape[0] if isinstance(imgs, torch.Tensor) else len(imgs)\n",
    "    is_int = imgs.dtype==torch.int32 if isinstance(imgs, torch.Tensor) else imgs[0].dtype==torch.int32\n",
    "    nrow = min(num_imgs, row_size)\n",
    "    ncol = int(math.ceil(num_imgs/nrow))\n",
    "    imgs = torchvision.utils.make_grid([torch.from_numpy(i) for i in imgs], nrow=nrow, pad_value=128 if is_int else 0.5)\n",
    "    imgs = torch.clamp(imgs, min=0, max=255)\n",
    "    np_imgs = imgs.cpu().numpy()\n",
    "    np_imgs = np_imgs.astype('uint8')\n",
    "    return np_imgs"
   ]
  },
  {
   "cell_type": "code",
   "execution_count": 2,
   "id": "5e36d4ab-6d5c-40d0-845c-1d50e76acbfa",
   "metadata": {},
   "outputs": [],
   "source": [
    "#|default_exp evaluation_utils\n",
    "#|hide\n",
    "nbpath = '/home/tiurin/projects/ExampleProject/Temp/code/nbs/evaluation.ipynb'\n",
    "import nbdev; nbdev.nbdev_export(nbpath)"
   ]
  },
  {
   "cell_type": "code",
   "execution_count": null,
   "id": "0a7e7e3b-d787-480f-bc17-1904a20a4d1c",
   "metadata": {},
   "outputs": [],
   "source": []
  }
 ],
 "metadata": {
  "kernelspec": {
   "display_name": "Python [conda env:mri_gpu] *",
   "language": "python",
   "name": "conda-env-mri_gpu-py"
  },
  "language_info": {
   "codemirror_mode": {
    "name": "ipython",
    "version": 3
   },
   "file_extension": ".py",
   "mimetype": "text/x-python",
   "name": "python",
   "nbconvert_exporter": "python",
   "pygments_lexer": "ipython3",
   "version": "3.10.8"
  }
 },
 "nbformat": 4,
 "nbformat_minor": 5
}
